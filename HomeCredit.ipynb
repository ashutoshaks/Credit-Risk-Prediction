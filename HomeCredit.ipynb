{
 "cells": [
  {
   "cell_type": "code",
   "execution_count": 1,
   "metadata": {},
   "outputs": [],
   "source": [
    "# numpy and pandas for data manipulation\n",
    "import numpy as np\n",
    "import pandas as pd \n",
    "import pymysql\n",
    "import seaborn as sns\n",
    "import matplotlib.pyplot as plt\n",
    "from sklearn.preprocessing import LabelEncoder\n"
   ]
  },
  {
   "cell_type": "code",
   "execution_count": 2,
   "metadata": {},
   "outputs": [
    {
     "name": "stdout",
     "output_type": "stream",
     "text": [
      "Training data shape:  (307511, 122)\n"
     ]
    }
   ],
   "source": [
    "#TrainingData\n",
    "app_train = pd.read_csv('/Users/jayborkar/Downloads/all/application_train.csv')\n",
    "print('Training data shape: ', app_train.shape)"
   ]
  },
  {
   "cell_type": "code",
   "execution_count": 3,
   "metadata": {},
   "outputs": [],
   "source": [
    "POS_CASH_balance=pd.read_csv('/Users/jayborkar/Downloads/all/POS_CASH_balance.csv')\n",
    "bureau_balance=pd.read_csv('/Users/jayborkar/Downloads/all/bureau_balance.csv')\n",
    "previous_application=pd.read_csv('/Users/jayborkar/Downloads/all/previous_application.csv')\n",
    "installments_payments=pd.read_csv('/Users/jayborkar/Downloads/all/installments_payments.csv')\n",
    "credit_card_balance=pd.read_csv('/Users/jayborkar/Downloads/all/credit_card_balance.csv')\n",
    "bureau=pd.read_csv('/Users/jayborkar/Downloads/all/bureau.csv')"
   ]
  },
  {
   "cell_type": "code",
   "execution_count": 4,
   "metadata": {},
   "outputs": [
    {
     "name": "stdout",
     "output_type": "stream",
     "text": [
      "Size of application_train data (307511, 122)\n",
      "Size of bureau data (1716428, 17)\n",
      "Size of bureau_balance data (27299925, 3)\n",
      "Size of previous_application data (1670214, 37)\n",
      "Size of POS_CASH_balance data (10001358, 8)\n",
      "Size of installments_payments data (13605401, 8)\n",
      "Size of credit_card_balance data (3840312, 23)\n"
     ]
    }
   ],
   "source": [
    "print('Size of application_train data', app_train.shape)\n",
    "print('Size of bureau data', bureau.shape)\n",
    "print('Size of bureau_balance data', bureau_balance.shape)\n",
    "print('Size of previous_application data', previous_application.shape)\n",
    "print('Size of POS_CASH_balance data', POS_CASH_balance.shape)\n",
    "print('Size of installments_payments data', installments_payments.shape)\n",
    "print('Size of credit_card_balance data', credit_card_balance.shape)"
   ]
  },
  {
   "cell_type": "code",
   "execution_count": 3,
   "metadata": {},
   "outputs": [
    {
     "name": "stdout",
     "output_type": "stream",
     "text": [
      "Training data shape:  (48744, 121)\n"
     ]
    }
   ],
   "source": [
    "#TestingData\n",
    "app_test = pd.read_csv('/Users/jayborkar/Downloads/all/application_test.csv')\n",
    "print('Training data shape: ', app_test.shape)"
   ]
  },
  {
   "cell_type": "code",
   "execution_count": 4,
   "metadata": {},
   "outputs": [
    {
     "data": {
      "text/plain": [
       "0    282686\n",
       "1     24825\n",
       "Name: TARGET, dtype: int64"
      ]
     },
     "execution_count": 4,
     "metadata": {},
     "output_type": "execute_result"
    }
   ],
   "source": [
    "app_train['TARGET'].value_counts()"
   ]
  },
  {
   "cell_type": "code",
   "execution_count": 7,
   "metadata": {},
   "outputs": [
    {
     "data": {
      "text/plain": [
       "float64    65\n",
       "int64      41\n",
       "object     16\n",
       "dtype: int64"
      ]
     },
     "execution_count": 7,
     "metadata": {},
     "output_type": "execute_result"
    }
   ],
   "source": [
    "app_train.dtypes.value_counts()"
   ]
  },
  {
   "cell_type": "code",
   "execution_count": 5,
   "metadata": {},
   "outputs": [],
   "source": [
    " #Function to calculate missing values by column# Funct \n",
    "def missing_values_table(df):\n",
    "        # Total missing values\n",
    "        mis_val = df.isnull().sum()\n",
    "        \n",
    "        # Percentage of missing values\n",
    "        mis_val_percent = 100 * mis_val / len(df)\n",
    "        \n",
    "        # Make a table with the results\n",
    "        mis_val_table = pd.concat([mis_val, mis_val_percent], axis=1)\n",
    "        \n",
    "        # Rename the columns\n",
    "        mis_val_table_ren_columns = mis_val_table.rename(\n",
    "        columns = {0 : 'Missing Values', 1 : '% of Total Values'})\n",
    "        \n",
    "        # Sort the table by percentage of missing descending\n",
    "        mis_val_table_ren_columns = mis_val_table_ren_columns[\n",
    "            mis_val_table_ren_columns.iloc[:,1] != 0].sort_values(\n",
    "        '% of Total Values', ascending=False).round(1)\n",
    "        \n",
    "        # Print some summary information\n",
    "        print (\"Your selected dataframe has \" + str(df.shape[1]) + \" columns.\\n\"      \n",
    "            \"There are \" + str(mis_val_table_ren_columns.shape[0]) +\n",
    "              \" columns that have missing values.\")\n",
    "        \n",
    "        # Return the dataframe with missing information\n",
    "        return mis_val_table_ren_columns"
   ]
  },
  {
   "cell_type": "code",
   "execution_count": 6,
   "metadata": {},
   "outputs": [
    {
     "name": "stdout",
     "output_type": "stream",
     "text": [
      "Your selected dataframe has 122 columns.\n",
      "There are 67 columns that have missing values.\n"
     ]
    },
    {
     "data": {
      "text/html": [
       "<div>\n",
       "<style scoped>\n",
       "    .dataframe tbody tr th:only-of-type {\n",
       "        vertical-align: middle;\n",
       "    }\n",
       "\n",
       "    .dataframe tbody tr th {\n",
       "        vertical-align: top;\n",
       "    }\n",
       "\n",
       "    .dataframe thead th {\n",
       "        text-align: right;\n",
       "    }\n",
       "</style>\n",
       "<table border=\"1\" class=\"dataframe\">\n",
       "  <thead>\n",
       "    <tr style=\"text-align: right;\">\n",
       "      <th></th>\n",
       "      <th>Missing Values</th>\n",
       "      <th>% of Total Values</th>\n",
       "    </tr>\n",
       "  </thead>\n",
       "  <tbody>\n",
       "    <tr>\n",
       "      <th>COMMONAREA_MEDI</th>\n",
       "      <td>214865</td>\n",
       "      <td>69.9</td>\n",
       "    </tr>\n",
       "    <tr>\n",
       "      <th>COMMONAREA_AVG</th>\n",
       "      <td>214865</td>\n",
       "      <td>69.9</td>\n",
       "    </tr>\n",
       "    <tr>\n",
       "      <th>COMMONAREA_MODE</th>\n",
       "      <td>214865</td>\n",
       "      <td>69.9</td>\n",
       "    </tr>\n",
       "    <tr>\n",
       "      <th>NONLIVINGAPARTMENTS_MEDI</th>\n",
       "      <td>213514</td>\n",
       "      <td>69.4</td>\n",
       "    </tr>\n",
       "    <tr>\n",
       "      <th>NONLIVINGAPARTMENTS_MODE</th>\n",
       "      <td>213514</td>\n",
       "      <td>69.4</td>\n",
       "    </tr>\n",
       "    <tr>\n",
       "      <th>NONLIVINGAPARTMENTS_AVG</th>\n",
       "      <td>213514</td>\n",
       "      <td>69.4</td>\n",
       "    </tr>\n",
       "    <tr>\n",
       "      <th>FONDKAPREMONT_MODE</th>\n",
       "      <td>210295</td>\n",
       "      <td>68.4</td>\n",
       "    </tr>\n",
       "    <tr>\n",
       "      <th>LIVINGAPARTMENTS_MODE</th>\n",
       "      <td>210199</td>\n",
       "      <td>68.4</td>\n",
       "    </tr>\n",
       "    <tr>\n",
       "      <th>LIVINGAPARTMENTS_MEDI</th>\n",
       "      <td>210199</td>\n",
       "      <td>68.4</td>\n",
       "    </tr>\n",
       "    <tr>\n",
       "      <th>LIVINGAPARTMENTS_AVG</th>\n",
       "      <td>210199</td>\n",
       "      <td>68.4</td>\n",
       "    </tr>\n",
       "  </tbody>\n",
       "</table>\n",
       "</div>"
      ],
      "text/plain": [
       "                          Missing Values  % of Total Values\n",
       "COMMONAREA_MEDI                   214865               69.9\n",
       "COMMONAREA_AVG                    214865               69.9\n",
       "COMMONAREA_MODE                   214865               69.9\n",
       "NONLIVINGAPARTMENTS_MEDI          213514               69.4\n",
       "NONLIVINGAPARTMENTS_MODE          213514               69.4\n",
       "NONLIVINGAPARTMENTS_AVG           213514               69.4\n",
       "FONDKAPREMONT_MODE                210295               68.4\n",
       "LIVINGAPARTMENTS_MODE             210199               68.4\n",
       "LIVINGAPARTMENTS_MEDI             210199               68.4\n",
       "LIVINGAPARTMENTS_AVG              210199               68.4"
      ]
     },
     "execution_count": 6,
     "metadata": {},
     "output_type": "execute_result"
    }
   ],
   "source": [
    "missing_values_train = missing_values_table(app_train)\n",
    "missing_values_train.head(10)"
   ]
  },
  {
   "cell_type": "code",
   "execution_count": 9,
   "metadata": {},
   "outputs": [],
   "source": [
    "import plotly\n",
    "import plotly.plotly as py\n",
    "import plotly.graph_objs as go\n",
    "plotly.tools.set_credentials_file(username='jayb1544', api_key='Tpumbrlqsk6FxdNrBgsJ')"
   ]
  },
  {
   "cell_type": "code",
   "execution_count": 8,
   "metadata": {},
   "outputs": [
    {
     "data": {
      "text/html": [
       "<iframe id=\"igraph\" scrolling=\"no\" style=\"border:none;\" seamless=\"seamless\" src=\"https://plot.ly/~jayb1544/30.embed\" height=\"525px\" width=\"100%\"></iframe>"
      ],
      "text/plain": [
       "<plotly.tools.PlotlyDisplay object>"
      ]
     },
     "execution_count": 8,
     "metadata": {},
     "output_type": "execute_result"
    }
   ],
   "source": [
    "temp = app_train[\"TARGET\"].value_counts()\n",
    "labels=['Yes','No']\n",
    "\n",
    "trace = go.Pie(labels=labels, values=temp)\n",
    "py.iplot([trace], filename='basic_pie_chart')"
   ]
  },
  {
   "cell_type": "code",
   "execution_count": 9,
   "metadata": {},
   "outputs": [
    {
     "data": {
      "text/html": [
       "<iframe id=\"igraph\" scrolling=\"no\" style=\"border:none;\" seamless=\"seamless\" src=\"https://plot.ly/~jayb1544/2.embed\" height=\"525px\" width=\"100%\"></iframe>"
      ],
      "text/plain": [
       "<plotly.tools.PlotlyDisplay object>"
      ]
     },
     "execution_count": 9,
     "metadata": {},
     "output_type": "execute_result"
    }
   ],
   "source": [
    "temp = app_train[\"NAME_INCOME_TYPE\"].value_counts()\n",
    "trace = go.Bar(\n",
    "    x = temp.index,\n",
    "    y = temp ,\n",
    ")\n",
    "data = [trace]\n",
    "layout = go.Layout(\n",
    "    title = \"Income Type of Applicant \",\n",
    "    xaxis=dict(\n",
    "        title='Income Type',\n",
    "        tickfont=dict(\n",
    "            size=14,\n",
    "            color='rgb(107, 107, 107)'\n",
    "        )\n",
    "    ),\n",
    "    yaxis=dict(\n",
    "        title='Count',\n",
    "        titlefont=dict(\n",
    "            size=16,\n",
    "            color='rgb(107, 107, 107)'\n",
    "        ),\n",
    "        tickfont=dict(\n",
    "            size=14,\n",
    "            color='rgb(107, 107, 107)'\n",
    "        )\n",
    ")\n",
    ")\n",
    "fig = go.Figure(data=data, layout=layout)\n",
    "py.iplot(fig, filename='schoolStateNames')"
   ]
  },
  {
   "cell_type": "code",
   "execution_count": 10,
   "metadata": {},
   "outputs": [
    {
     "data": {
      "text/html": [
       "<iframe id=\"igraph\" scrolling=\"no\" style=\"border:none;\" seamless=\"seamless\" src=\"https://plot.ly/~jayb1544/44.embed\" height=\"525px\" width=\"100%\"></iframe>"
      ],
      "text/plain": [
       "<plotly.tools.PlotlyDisplay object>"
      ]
     },
     "execution_count": 10,
     "metadata": {},
     "output_type": "execute_result"
    }
   ],
   "source": [
    "temp = app_train[\"OCCUPATION_TYPE\"].value_counts()\n",
    "trace = go.Bar(\n",
    "    x = temp.index,\n",
    "    y = temp ,\n",
    ")\n",
    "data = [trace]\n",
    "layout = go.Layout(\n",
    "    title = \"Occupation Type of Applicant \",\n",
    "    xaxis=dict(\n",
    "        title='Occupation Type',\n",
    "        tickfont=dict(\n",
    "            size=14,\n",
    "            color='rgb(107, 107, 107)'\n",
    "        )\n",
    "    ),\n",
    "    yaxis=dict(\n",
    "        title='Count',\n",
    "        titlefont=dict(\n",
    "            size=16,\n",
    "            color='rgb(107, 107, 107)'\n",
    "        ),\n",
    "        tickfont=dict(\n",
    "            size=14,\n",
    "            color='rgb(107, 107, 107)'\n",
    "        )\n",
    ")\n",
    ")\n",
    "fig = go.Figure(data=data, layout=layout)\n",
    "py.iplot(fig)"
   ]
  },
  {
   "cell_type": "code",
   "execution_count": 11,
   "metadata": {},
   "outputs": [
    {
     "data": {
      "text/plain": [
       "float64    65\n",
       "int64      41\n",
       "object     16\n",
       "dtype: int64"
      ]
     },
     "execution_count": 11,
     "metadata": {},
     "output_type": "execute_result"
    }
   ],
   "source": [
    "app_train.dtypes.value_counts()"
   ]
  },
  {
   "cell_type": "code",
   "execution_count": 12,
   "metadata": {},
   "outputs": [
    {
     "data": {
      "text/plain": [
       "NAME_CONTRACT_TYPE             2\n",
       "CODE_GENDER                    3\n",
       "FLAG_OWN_CAR                   2\n",
       "FLAG_OWN_REALTY                2\n",
       "NAME_TYPE_SUITE                7\n",
       "NAME_INCOME_TYPE               8\n",
       "NAME_EDUCATION_TYPE            5\n",
       "NAME_FAMILY_STATUS             6\n",
       "NAME_HOUSING_TYPE              6\n",
       "OCCUPATION_TYPE               18\n",
       "WEEKDAY_APPR_PROCESS_START     7\n",
       "ORGANIZATION_TYPE             58\n",
       "FONDKAPREMONT_MODE             4\n",
       "HOUSETYPE_MODE                 3\n",
       "WALLSMATERIAL_MODE             7\n",
       "EMERGENCYSTATE_MODE            2\n",
       "dtype: int64"
      ]
     },
     "execution_count": 12,
     "metadata": {},
     "output_type": "execute_result"
    }
   ],
   "source": [
    "app_train.select_dtypes('object').apply(pd.Series.nunique, axis = 0)"
   ]
  },
  {
   "cell_type": "code",
   "execution_count": 13,
   "metadata": {},
   "outputs": [
    {
     "name": "stdout",
     "output_type": "stream",
     "text": [
      "3 columns were label encoded.\n"
     ]
    }
   ],
   "source": [
    "# Create a label encoder object\n",
    "le = LabelEncoder()\n",
    "le_count = 0\n",
    "\n",
    "# Iterate through the columns\n",
    "for col in app_train:\n",
    "    if app_train[col].dtype == 'object':\n",
    "        # If 2 or fewer unique categories\n",
    "        if len(list(app_train[col].unique())) <= 2:\n",
    "            # Train on the training data\n",
    "            le.fit(app_train[col])\n",
    "            # Transform both training and testing data\n",
    "            app_train[col] = le.transform(app_train[col])\n",
    "            app_test[col] = le.transform(app_test[col])\n",
    "            \n",
    "            # Keep track of how many columns were label encoded\n",
    "            le_count += 1\n",
    "            \n",
    "print('%d columns were label encoded.' % le_count)"
   ]
  },
  {
   "cell_type": "code",
   "execution_count": 14,
   "metadata": {},
   "outputs": [
    {
     "name": "stdout",
     "output_type": "stream",
     "text": [
      "Training Features shape:  (307511, 243)\n",
      "Testing Features shape:  (48744, 239)\n"
     ]
    }
   ],
   "source": [
    "# one-hot encoding of categorical variables\n",
    "app_train = pd.get_dummies(app_train)\n",
    "app_test = pd.get_dummies(app_test)\n",
    "\n",
    "print('Training Features shape: ', app_train.shape)\n",
    "print('Testing Features shape: ', app_test.shape)"
   ]
  },
  {
   "cell_type": "code",
   "execution_count": 15,
   "metadata": {},
   "outputs": [
    {
     "name": "stdout",
     "output_type": "stream",
     "text": [
      "Training Features shape:  (307511, 240)\n",
      "Testing Features shape:  (48744, 239)\n"
     ]
    }
   ],
   "source": [
    "train_labels = app_train['TARGET']\n",
    "\n",
    "# Align the training and testing data, keep only columns present in both dataframes\n",
    "app_train, app_test = app_train.align(app_test, join = 'inner', axis = 1)\n",
    "\n",
    "# Add the target back in\n",
    "app_train['TARGET'] = train_labels\n",
    "\n",
    "print('Training Features shape: ', app_train.shape)\n",
    "print('Testing Features shape: ', app_test.shape)"
   ]
  },
  {
   "cell_type": "code",
   "execution_count": 16,
   "metadata": {},
   "outputs": [
    {
     "data": {
      "text/plain": [
       "count    307511.000000\n",
       "mean         43.936973\n",
       "std          11.956133\n",
       "min          20.517808\n",
       "25%          34.008219\n",
       "50%          43.150685\n",
       "75%          53.923288\n",
       "max          69.120548\n",
       "Name: DAYS_BIRTH, dtype: float64"
      ]
     },
     "execution_count": 16,
     "metadata": {},
     "output_type": "execute_result"
    }
   ],
   "source": [
    "#Anomalies\n",
    "(app_train['DAYS_BIRTH'] / -365).describe()"
   ]
  },
  {
   "cell_type": "code",
   "execution_count": 17,
   "metadata": {},
   "outputs": [
    {
     "data": {
      "text/plain": [
       "count    307511.000000\n",
       "mean      63815.045904\n",
       "std      141275.766519\n",
       "min      -17912.000000\n",
       "25%       -2760.000000\n",
       "50%       -1213.000000\n",
       "75%        -289.000000\n",
       "max      365243.000000\n",
       "Name: DAYS_EMPLOYED, dtype: float64"
      ]
     },
     "execution_count": 17,
     "metadata": {},
     "output_type": "execute_result"
    }
   ],
   "source": [
    "app_train['DAYS_EMPLOYED'].describe()"
   ]
  },
  {
   "cell_type": "code",
   "execution_count": 18,
   "metadata": {},
   "outputs": [
    {
     "data": {
      "image/png": "[encoded data removed]",
      "text/plain": [
       "<Figure size 432x288 with 1 Axes>"
      ]
     },
     "metadata": {},
     "output_type": "display_data"
    }
   ],
   "source": [
    "app_train['DAYS_EMPLOYED'].plot.hist(title = 'Days Employment Histogram');\n",
    "plt.xlabel('Days Employment');"
   ]
  },
  {
   "cell_type": "code",
   "execution_count": 19,
   "metadata": {},
   "outputs": [
    {
     "name": "stdout",
     "output_type": "stream",
     "text": [
      "The non-anomalies default on 8.66% of loans\n",
      "The anomalies default on 5.40% of loans\n",
      "There are 55374 anomalous days of employment\n"
     ]
    }
   ],
   "source": [
    "anom = app_train[app_train['DAYS_EMPLOYED'] == 365243]\n",
    "non_anom = app_train[app_train['DAYS_EMPLOYED'] != 365243]\n",
    "print('The non-anomalies default on %0.2f%% of loans' % (100 * non_anom['TARGET'].mean()))\n",
    "print('The anomalies default on %0.2f%% of loans' % (100 * anom['TARGET'].mean()))\n",
    "print('There are %d anomalous days of employment' % len(anom))"
   ]
  },
  {
   "cell_type": "code",
   "execution_count": 20,
   "metadata": {},
   "outputs": [
    {
     "data": {
      "image/png": "[encoded data removed]",
      "text/plain": [
       "<Figure size 432x288 with 1 Axes>"
      ]
     },
     "metadata": {},
     "output_type": "display_data"
    }
   ],
   "source": [
    "# Create an anomalous flag column\n",
    "app_train['DAYS_EMPLOYED_ANOM'] = app_train[\"DAYS_EMPLOYED\"] == 365243\n",
    "\n",
    "# Replace the anomalous values with nan\n",
    "app_train['DAYS_EMPLOYED'].replace({365243: np.nan}, inplace = True)\n",
    "\n",
    "app_train['DAYS_EMPLOYED'].plot.hist(title = 'Days Employment Histogram');\n",
    "plt.xlabel('Days Employment');"
   ]
  },
  {
   "cell_type": "code",
   "execution_count": 21,
   "metadata": {},
   "outputs": [
    {
     "name": "stdout",
     "output_type": "stream",
     "text": [
      "There are 9274 anomalies in the test data out of 48744 entries\n"
     ]
    }
   ],
   "source": [
    "app_test['DAYS_EMPLOYED_ANOM'] = app_test[\"DAYS_EMPLOYED\"] == 365243\n",
    "app_test[\"DAYS_EMPLOYED\"].replace({365243: np.nan}, inplace = True)\n",
    "\n",
    "print('There are %d anomalies in the test data out of %d entries' % (app_test[\"DAYS_EMPLOYED_ANOM\"].sum(), len(app_test)))"
   ]
  },
  {
   "cell_type": "code",
   "execution_count": 22,
   "metadata": {},
   "outputs": [
    {
     "name": "stdout",
     "output_type": "stream",
     "text": [
      "Most Positive Correlations:\n",
      " OCCUPATION_TYPE_Laborers                             0.043019\n",
      "FLAG_DOCUMENT_3                                      0.044346\n",
      "REG_CITY_NOT_LIVE_CITY                               0.044395\n",
      "FLAG_EMP_PHONE                                       0.045982\n",
      "NAME_EDUCATION_TYPE_Secondary / secondary special    0.049824\n",
      "REG_CITY_NOT_WORK_CITY                               0.050994\n",
      "DAYS_ID_PUBLISH                                      0.051457\n",
      "CODE_GENDER_M                                        0.054713\n",
      "DAYS_LAST_PHONE_CHANGE                               0.055218\n",
      "NAME_INCOME_TYPE_Working                             0.057481\n",
      "REGION_RATING_CLIENT                                 0.058899\n",
      "REGION_RATING_CLIENT_W_CITY                          0.060893\n",
      "DAYS_EMPLOYED                                        0.074958\n",
      "DAYS_BIRTH                                           0.078239\n",
      "TARGET                                               1.000000\n",
      "Name: TARGET, dtype: float64\n",
      "\n",
      "Most Negative Correlations:\n",
      " EXT_SOURCE_3                           -0.178919\n",
      "EXT_SOURCE_2                           -0.160472\n",
      "EXT_SOURCE_1                           -0.155317\n",
      "NAME_EDUCATION_TYPE_Higher education   -0.056593\n",
      "CODE_GENDER_F                          -0.054704\n",
      "NAME_INCOME_TYPE_Pensioner             -0.046209\n",
      "DAYS_EMPLOYED_ANOM                     -0.045987\n",
      "ORGANIZATION_TYPE_XNA                  -0.045987\n",
      "FLOORSMAX_AVG                          -0.044003\n",
      "FLOORSMAX_MEDI                         -0.043768\n",
      "FLOORSMAX_MODE                         -0.043226\n",
      "EMERGENCYSTATE_MODE_No                 -0.042201\n",
      "HOUSETYPE_MODE_block of flats          -0.040594\n",
      "AMT_GOODS_PRICE                        -0.039645\n",
      "REGION_POPULATION_RELATIVE             -0.037227\n",
      "Name: TARGET, dtype: float64\n"
     ]
    }
   ],
   "source": [
    "#Correlations\n",
    "# Find correlations with the target and sort\n",
    "correlations = app_train.corr()['TARGET'].sort_values()\n",
    "\n",
    "# Display correlations\n",
    "print('Most Positive Correlations:\\n', correlations.tail(15))\n",
    "print('\\nMost Negative Correlations:\\n', correlations.head(15))"
   ]
  },
  {
   "cell_type": "code",
   "execution_count": 24,
   "metadata": {},
   "outputs": [
    {
     "data": {
      "image/png": "[encoded data removed]",
      "text/plain": [
       "<Figure size 432x288 with 2 Axes>"
      ]
     },
     "metadata": {},
     "output_type": "display_data"
    }
   ],
   "source": [
    "app_train = pd.read_csv('/Users/jayborkar/Downloads/all/application_train.csv')\n",
    "df= app_train[['TARGET', 'EXT_SOURCE_1']]\n",
    "df=df.dropna()\n",
    "\n",
    "def percent(val,total):\n",
    "    return (val/total)*100\n",
    "perlist=[]\n",
    "cnt1_Total,cnt2_Total,cnt3_Total,cnt4_Total,cnt5_Total=0,0,0,0,0\n",
    "cnt1,cnt2,cnt3,cnt4,cnt5=0,0,0,0,0\n",
    "\n",
    "for index, row in df.iterrows():\n",
    "    if row['EXT_SOURCE_1']>=0.0 and row['EXT_SOURCE_1']<0.2:\n",
    "        cnt1_Total=cnt1_Total+1\n",
    "        if row['TARGET']==1:\n",
    "            cnt1=cnt1+1\n",
    "    elif row['EXT_SOURCE_1']>=0.2 and row['EXT_SOURCE_1']<0.4:\n",
    "        cnt2_Total=cnt2_Total+1\n",
    "        if row['TARGET']==1:\n",
    "            cnt2=cnt2+1\n",
    "    elif row['EXT_SOURCE_1']>=0.4 and row['EXT_SOURCE_1']<0.6:\n",
    "        cnt3_Total=cnt3_Total+1\n",
    "        if row['TARGET']==1:\n",
    "            cnt3=cnt3+1\n",
    "    elif row['EXT_SOURCE_1']>=0.6 and row['EXT_SOURCE_1']<0.8:\n",
    "        cnt4_Total=cnt4_Total+1\n",
    "        if row['TARGET']==1:\n",
    "            cnt4=cnt4+1\n",
    "    elif row['EXT_SOURCE_1']>=0.8 and row['EXT_SOURCE_1']<=1.0:\n",
    "        cnt5_Total=cnt5_Total+1\n",
    "        if row['TARGET']==1:\n",
    "            cnt5=cnt5+1\n",
    "\n",
    "per=percent(cnt1,cnt1_Total)\n",
    "perlist.append(per)\n",
    "\n",
    "per=percent(cnt2,cnt2_Total)\n",
    "perlist.append(per)\n",
    "\n",
    "per=percent(cnt3,cnt3_Total)\n",
    "perlist.append(per)\n",
    "\n",
    "per=percent(cnt4,cnt4_Total)\n",
    "perlist.append(per)\n",
    "\n",
    "per=percent(cnt5,cnt5_Total)\n",
    "perlist.append(per)\n",
    "          \n",
    "data1 = app_train['EXT_SOURCE_1'] #['EXT_SOURCE_1']\n",
    "data2 = pd.Series(perlist)\n",
    "d=pd.Series([0.1,0.3,0.5,0.7,0.9])\n",
    "fig, ax1 = plt.subplots()\n",
    "ax2 = ax1.twinx()  # instantiate a second axes that shares the same x-axis\n",
    "\n",
    "color = 'tab:blue'\n",
    "ax1.set_xlabel('EXT_SOURCE_1')\n",
    "ax1.set_ylabel('Count', color=color)\n",
    "ax1.hist(data1.dropna(), alpha=0.9, color=color)\n",
    "ax1.tick_params(axis='y', labelcolor=color)\n",
    "\n",
    "\n",
    "color = 'tab:red'\n",
    "ax2.set_ylabel('Percent', color=color)  # we already handled the x-label with ax1\n",
    "ax2.plot(d,data2,color=color,marker='d')\n",
    "ax2.tick_params(axis='y', labelcolor=color)\n",
    "plt.show()"
   ]
  },
  {
   "cell_type": "code",
   "execution_count": 25,
   "metadata": {},
   "outputs": [
    {
     "data": {
      "text/plain": [
       "count    134133.000000\n",
       "mean          0.502130\n",
       "std           0.211062\n",
       "min           0.014568\n",
       "25%           0.334007\n",
       "50%           0.505998\n",
       "75%           0.675053\n",
       "max           0.962693\n",
       "Name: EXT_SOURCE_1, dtype: float64"
      ]
     },
     "execution_count": 25,
     "metadata": {},
     "output_type": "execute_result"
    }
   ],
   "source": [
    "app_train['EXT_SOURCE_1'].describe()"
   ]
  },
  {
   "cell_type": "code",
   "execution_count": 16,
   "metadata": {
    "scrolled": true
   },
   "outputs": [
    {
     "name": "stderr",
     "output_type": "stream",
     "text": [
      "/anaconda3/lib/python3.6/site-packages/plotly/plotly/plotly.py:233: UserWarning:\n",
      "\n",
      "Woah there! Look at all those points! Due to browser limitations, the Plotly SVG drawing functions have a hard time graphing more than 500k data points for line charts, or 40k points for other types of charts. Here are some suggestions:\n",
      "(1) Use the `plotly.graph_objs.Scattergl` trace object to generate a WebGl graph.\n",
      "(2) Trying using the image API to return an image instead of a graph URL\n",
      "(3) Use matplotlib\n",
      "(4) See if you can create your visualization with fewer data points\n",
      "\n",
      "If the visualization you're using aggregates points (e.g., box plot, histogram, etc.) you can disregard this warning.\n",
      "\n"
     ]
    },
    {
     "data": {
      "text/html": [
       "<iframe id=\"igraph\" scrolling=\"no\" style=\"border:none;\" seamless=\"seamless\" src=\"https://plot.ly/~jayb1544/34.embed\" height=\"525px\" width=\"100%\"></iframe>"
      ],
      "text/plain": [
       "<plotly.tools.PlotlyDisplay object>"
      ]
     },
     "execution_count": 16,
     "metadata": {},
     "output_type": "execute_result"
    }
   ],
   "source": [
    "app_train = pd.read_csv('/Users/jayborkar/Downloads/all/application_train.csv')\n",
    "df= app_train[['TARGET', 'EXT_SOURCE_1']]\n",
    "df=df.dropna()\n",
    "\n",
    "def percent(val,total):\n",
    "    return (val/total)*100\n",
    "\n",
    "cnt1_Total,cnt2_Total,cnt3_Total,cnt4_Total,cnt5_Total=0,0,0,0,0\n",
    "cnt1,cnt2,cnt3,cnt4,cnt5=0,0,0,0,0\n",
    "perlist=[]\n",
    "\n",
    "for index, row in df.iterrows():\n",
    "    if row['EXT_SOURCE_1']>=0.0 and row['EXT_SOURCE_1']<0.2:\n",
    "        cnt1_Total=cnt1_Total+1\n",
    "        if row['TARGET']==1:\n",
    "            cnt1=cnt1+1\n",
    "    elif row['EXT_SOURCE_1']>=0.2 and row['EXT_SOURCE_1']<0.4:\n",
    "        cnt2_Total=cnt2_Total+1\n",
    "        if row['TARGET']==1:\n",
    "            cnt2=cnt2+1\n",
    "    elif row['EXT_SOURCE_1']>=0.4 and row['EXT_SOURCE_1']<0.6:\n",
    "        cnt3_Total=cnt3_Total+1\n",
    "        if row['TARGET']==1:\n",
    "            cnt3=cnt3+1\n",
    "    elif row['EXT_SOURCE_1']>=0.6 and row['EXT_SOURCE_1']<0.8:\n",
    "        cnt4_Total=cnt4_Total+1\n",
    "        if row['TARGET']==1:\n",
    "            cnt4=cnt4+1\n",
    "    elif row['EXT_SOURCE_1']>=0.8 and row['EXT_SOURCE_1']<=1.0:\n",
    "        cnt5_Total=cnt5_Total+1\n",
    "        if row['TARGET']==1:\n",
    "            cnt5=cnt5+1\n",
    "\n",
    "per=percent(cnt1,cnt1_Total)\n",
    "perlist.append(per)\n",
    "\n",
    "per=percent(cnt2,cnt2_Total)\n",
    "perlist.append(per)\n",
    "\n",
    "per=percent(cnt3,cnt3_Total)\n",
    "perlist.append(per)\n",
    "\n",
    "per=percent(cnt4,cnt4_Total)\n",
    "perlist.append(per)\n",
    "\n",
    "per=percent(cnt5,cnt5_Total)\n",
    "perlist.append(per)\n",
    "d=pd.Series([0.1,0.3,0.5,0.7,0.9])\n",
    "\n",
    "trace1 = go.Histogram(\n",
    "    x= app_train['EXT_SOURCE_1'],\n",
    "    #opacity=0.75,\n",
    "    name='EXT_SOURCE_1'\n",
    ")\n",
    "\n",
    "trace2 = go.Scatter(\n",
    "    x= d,\n",
    "    y= pd.Series(perlist),\n",
    "    name='PERCENT OF TARGET=1',\n",
    "    yaxis='y2'\n",
    ")\n",
    "data = [trace1, trace2]\n",
    "layout = go.Layout(\n",
    "    title='count of EXT_SOURCE_1 Vs PERCENT OF TARGET=1',\n",
    "    xaxis=dict(\n",
    "        title='EXT_SOURCE_1'),\n",
    "    yaxis=dict(\n",
    "        title='Count'\n",
    "    ),\n",
    "    yaxis2=dict(\n",
    "        title='PERCENT',\n",
    "        titlefont=dict(\n",
    "            color='rgb(148, 103, 189)'\n",
    "        ),\n",
    "        tickfont=dict(\n",
    "            color='rgb(148, 103, 189)'\n",
    "        ),\n",
    "        overlaying='y',\n",
    "        side='right'\n",
    "    )\n",
    ")\n",
    "fig = go.Figure(data=data, layout=layout)\n",
    "py.iplot(fig, filename='multiple-axes-double')"
   ]
  },
  {
   "cell_type": "code",
   "execution_count": 27,
   "metadata": {},
   "outputs": [
    {
     "data": {
      "text/plain": [
       "count    3.068510e+05\n",
       "mean     5.143927e-01\n",
       "std      1.910602e-01\n",
       "min      8.173617e-08\n",
       "25%      3.924574e-01\n",
       "50%      5.659614e-01\n",
       "75%      6.636171e-01\n",
       "max      8.549997e-01\n",
       "Name: EXT_SOURCE_2, dtype: float64"
      ]
     },
     "execution_count": 27,
     "metadata": {},
     "output_type": "execute_result"
    }
   ],
   "source": [
    "app_train['EXT_SOURCE_2'].describe()"
   ]
  },
  {
   "cell_type": "code",
   "execution_count": 19,
   "metadata": {},
   "outputs": [
    {
     "name": "stderr",
     "output_type": "stream",
     "text": [
      "/anaconda3/lib/python3.6/site-packages/plotly/plotly/plotly.py:233: UserWarning:\n",
      "\n",
      "Woah there! Look at all those points! Due to browser limitations, the Plotly SVG drawing functions have a hard time graphing more than 500k data points for line charts, or 40k points for other types of charts. Here are some suggestions:\n",
      "(1) Use the `plotly.graph_objs.Scattergl` trace object to generate a WebGl graph.\n",
      "(2) Trying using the image API to return an image instead of a graph URL\n",
      "(3) Use matplotlib\n",
      "(4) See if you can create your visualization with fewer data points\n",
      "\n",
      "If the visualization you're using aggregates points (e.g., box plot, histogram, etc.) you can disregard this warning.\n",
      "\n"
     ]
    },
    {
     "data": {
      "text/html": [
       "<iframe id=\"igraph\" scrolling=\"no\" style=\"border:none;\" seamless=\"seamless\" src=\"https://plot.ly/~jayb1544/34.embed\" height=\"525px\" width=\"100%\"></iframe>"
      ],
      "text/plain": [
       "<plotly.tools.PlotlyDisplay object>"
      ]
     },
     "execution_count": 19,
     "metadata": {},
     "output_type": "execute_result"
    }
   ],
   "source": [
    "import statistics\n",
    "app_train = pd.read_csv('/Users/jayborkar/Downloads/all/application_train.csv')\n",
    "df= app_train[['TARGET', 'EXT_SOURCE_2']]\n",
    "df=df.dropna()\n",
    "\n",
    "def percent(val,total):\n",
    "    return (val/total)*100\n",
    "\n",
    "cnt1_Total,cnt2_Total,cnt3_Total,cnt4_Total=0,0,0,0\n",
    "cnt1,cnt2,cnt3,cnt4=0,0,0,0\n",
    "perlist=[]\n",
    "\n",
    "for index, row in df.iterrows():\n",
    "    if row['EXT_SOURCE_2']>=8.173617e-08 and row['EXT_SOURCE_2']<3.924574e-01:\n",
    "        cnt1_Total=cnt1_Total+1\n",
    "        if row['TARGET']==1:\n",
    "            cnt1=cnt1+1\n",
    "    elif row['EXT_SOURCE_2']>=3.924574e-01 and row['EXT_SOURCE_2']<5.659614e-01:\n",
    "        cnt2_Total=cnt2_Total+1\n",
    "        if row['TARGET']==1:\n",
    "            cnt2=cnt2+1\n",
    "    elif row['EXT_SOURCE_2']>=5.659614e-01 and row['EXT_SOURCE_2']<6.636171e-01:\n",
    "        cnt3_Total=cnt3_Total+1\n",
    "        if row['TARGET']==1:\n",
    "            cnt3=cnt3+1\n",
    "    elif row['EXT_SOURCE_2']>=6.636171e-01 and row['EXT_SOURCE_2']<=8.549997e-01:\n",
    "        cnt4_Total=cnt4_Total+1\n",
    "        if row['TARGET']==1:\n",
    "            cnt4=cnt4+1\n",
    "\n",
    "per=percent(cnt1,cnt1_Total)\n",
    "perlist.append(per)\n",
    "\n",
    "per=percent(cnt2,cnt2_Total)\n",
    "perlist.append(per)\n",
    "\n",
    "per=percent(cnt3,cnt3_Total)\n",
    "perlist.append(per)\n",
    "\n",
    "per=percent(cnt4,cnt4_Total)\n",
    "perlist.append(per)\n",
    "\n",
    "a,b,c,d=a,b,c,d=(statistics.median([8.173617e-08,3.924574e-01])),(statistics.median([3.924574e-01,5.659614e-01])),(statistics.median([5.659614e-01,6.636171e-01])),(statistics.median([6.636171e-01,8.549997e-01]))\n",
    "d2=pd.Series([a,b,c,d])\n",
    "\n",
    "trace1 = go.Histogram(\n",
    "    x= app_train['EXT_SOURCE_2'],\n",
    "    #opacity=0.75,\n",
    "    name='EXT_SOURCE_2'\n",
    ")\n",
    "\n",
    "trace2 = go.Scatter(\n",
    "    x= d2,\n",
    "    y= pd.Series(perlist),\n",
    "    name='PERCENT OF TARGET=1',\n",
    "    yaxis='y2'\n",
    ")\n",
    "data = [trace1, trace2]\n",
    "layout = go.Layout(\n",
    "    title='count of EXT_SOURCE_2 Vs PERCENT OF TARGET=1',\n",
    "    xaxis=dict(\n",
    "        title='EXT_SOURCE_2'),\n",
    "    yaxis=dict(\n",
    "        title='Count'\n",
    "    ),\n",
    "    yaxis2=dict(\n",
    "        title='PERCENT',\n",
    "        titlefont=dict(\n",
    "            color='rgb(148, 103, 189)'\n",
    "        ),\n",
    "        tickfont=dict(\n",
    "            color='rgb(148, 103, 189)'\n",
    "        ),\n",
    "        overlaying='y',\n",
    "        side='right'\n",
    "    )\n",
    ")\n",
    "fig = go.Figure(data=data, layout=layout)\n",
    "py.iplot(fig, filename='multiple-axes-double')"
   ]
  },
  {
   "cell_type": "code",
   "execution_count": 30,
   "metadata": {},
   "outputs": [
    {
     "data": {
      "text/plain": [
       "count    246546.000000\n",
       "mean          0.510853\n",
       "std           0.194844\n",
       "min           0.000527\n",
       "25%           0.370650\n",
       "50%           0.535276\n",
       "75%           0.669057\n",
       "max           0.896010\n",
       "Name: EXT_SOURCE_3, dtype: float64"
      ]
     },
     "execution_count": 30,
     "metadata": {},
     "output_type": "execute_result"
    }
   ],
   "source": [
    "app_train['EXT_SOURCE_3'].describe()"
   ]
  },
  {
   "cell_type": "code",
   "execution_count": 18,
   "metadata": {},
   "outputs": [
    {
     "name": "stderr",
     "output_type": "stream",
     "text": [
      "/anaconda3/lib/python3.6/site-packages/plotly/plotly/plotly.py:233: UserWarning:\n",
      "\n",
      "Woah there! Look at all those points! Due to browser limitations, the Plotly SVG drawing functions have a hard time graphing more than 500k data points for line charts, or 40k points for other types of charts. Here are some suggestions:\n",
      "(1) Use the `plotly.graph_objs.Scattergl` trace object to generate a WebGl graph.\n",
      "(2) Trying using the image API to return an image instead of a graph URL\n",
      "(3) Use matplotlib\n",
      "(4) See if you can create your visualization with fewer data points\n",
      "\n",
      "If the visualization you're using aggregates points (e.g., box plot, histogram, etc.) you can disregard this warning.\n",
      "\n"
     ]
    },
    {
     "data": {
      "text/html": [
       "<iframe id=\"igraph\" scrolling=\"no\" style=\"border:none;\" seamless=\"seamless\" src=\"https://plot.ly/~jayb1544/34.embed\" height=\"525px\" width=\"100%\"></iframe>"
      ],
      "text/plain": [
       "<plotly.tools.PlotlyDisplay object>"
      ]
     },
     "execution_count": 18,
     "metadata": {},
     "output_type": "execute_result"
    }
   ],
   "source": [
    "app_train = pd.read_csv('/Users/jayborkar/Downloads/all/application_train.csv')\n",
    "df= app_train[['TARGET', 'EXT_SOURCE_3']]\n",
    "df=df.dropna()\n",
    "\n",
    "def percent(val,total):\n",
    "    return (val/total)*100\n",
    "\n",
    "cnt1_Total,cnt2_Total,cnt3_Total,cnt4_Total=0,0,0,0\n",
    "cnt1,cnt2,cnt3,cnt4=0,0,0,0\n",
    "perlist=[]\n",
    "\n",
    "for index, row in df.iterrows():\n",
    "    if row['EXT_SOURCE_3']>=0.000527 and row['EXT_SOURCE_3']<0.370650:\n",
    "        cnt1_Total=cnt1_Total+1\n",
    "        if row['TARGET']==1:\n",
    "            cnt1=cnt1+1\n",
    "    elif row['EXT_SOURCE_3']>=0.370650 and row['EXT_SOURCE_3']<0.535276:\n",
    "        cnt2_Total=cnt2_Total+1\n",
    "        if row['TARGET']==1:\n",
    "            cnt2=cnt2+1\n",
    "    elif row['EXT_SOURCE_3']>=0.535276 and row['EXT_SOURCE_3']<0.669057:\n",
    "        cnt3_Total=cnt3_Total+1\n",
    "        if row['TARGET']==1:\n",
    "            cnt3=cnt3+1\n",
    "    elif row['EXT_SOURCE_3']>=0.669057 and row['EXT_SOURCE_3']<=0.896010:\n",
    "        cnt4_Total=cnt4_Total+1\n",
    "        if row['TARGET']==1:\n",
    "            cnt4=cnt4+1\n",
    "\n",
    "per=percent(cnt1,cnt1_Total)\n",
    "perlist.append(per)\n",
    "\n",
    "per=percent(cnt2,cnt2_Total)\n",
    "perlist.append(per)\n",
    "\n",
    "per=percent(cnt3,cnt3_Total)\n",
    "perlist.append(per)\n",
    "\n",
    "per=percent(cnt4,cnt4_Total)\n",
    "perlist.append(per)\n",
    "\n",
    "a,b,c,d=a,b,c,d=(statistics.median([0.000527,0.370650])),(statistics.median([0.370650,0.535276])),(statistics.median([0.535276,0.669057])),(statistics.median([0.669057,0.896010]))\n",
    "d2=pd.Series([a,b,c,d])\n",
    "\n",
    "trace1 = go.Histogram(\n",
    "    x= app_train['EXT_SOURCE_3'],\n",
    "    #opacity=0.75,\n",
    "    name='EXT_SOURCE_3'\n",
    ")\n",
    "\n",
    "trace2 = go.Scatter(\n",
    "    x= d2,\n",
    "    y= pd.Series(perlist),\n",
    "    name='PERCENT OF TARGET=1',\n",
    "    yaxis='y2'\n",
    ")\n",
    "data = [trace1, trace2]\n",
    "layout = go.Layout(\n",
    "    title='count of EXT_SOURCE_3 Vs PERCENT OF TARGET=1',\n",
    "    xaxis=dict(\n",
    "        title='EXT_SOURCE_3'),\n",
    "    yaxis=dict(\n",
    "        title='Count'\n",
    "    ),\n",
    "    yaxis2=dict(\n",
    "        title='PERCENT',\n",
    "        titlefont=dict(\n",
    "            color='rgb(148, 103, 189)'\n",
    "        ),\n",
    "        tickfont=dict(\n",
    "            color='rgb(148, 103, 189)'\n",
    "        ),\n",
    "        overlaying='y',\n",
    "        side='right'\n",
    "    )\n",
    ")\n",
    "fig = go.Figure(data=data, layout=layout)\n",
    "py.iplot(fig, filename='multiple-axes-double')"
   ]
  },
  {
   "cell_type": "code",
   "execution_count": 32,
   "metadata": {},
   "outputs": [
    {
     "data": {
      "text/plain": [
       "count    3.075110e+05\n",
       "mean     1.687979e+05\n",
       "std      2.371231e+05\n",
       "min      2.565000e+04\n",
       "25%      1.125000e+05\n",
       "50%      1.471500e+05\n",
       "75%      2.025000e+05\n",
       "max      1.170000e+08\n",
       "Name: AMT_INCOME_TOTAL, dtype: float64"
      ]
     },
     "execution_count": 32,
     "metadata": {},
     "output_type": "execute_result"
    }
   ],
   "source": [
    "app_train['AMT_INCOME_TOTAL'].describe()"
   ]
  },
  {
   "cell_type": "code",
   "execution_count": 33,
   "metadata": {},
   "outputs": [
    {
     "name": "stderr",
     "output_type": "stream",
     "text": [
      "/anaconda3/lib/python3.6/site-packages/plotly/plotly/plotly.py:233: UserWarning:\n",
      "\n",
      "Woah there! Look at all those points! Due to browser limitations, the Plotly SVG drawing functions have a hard time graphing more than 500k data points for line charts, or 40k points for other types of charts. Here are some suggestions:\n",
      "(1) Use the `plotly.graph_objs.Scattergl` trace object to generate a WebGl graph.\n",
      "(2) Trying using the image API to return an image instead of a graph URL\n",
      "(3) Use matplotlib\n",
      "(4) See if you can create your visualization with fewer data points\n",
      "\n",
      "If the visualization you're using aggregates points (e.g., box plot, histogram, etc.) you can disregard this warning.\n",
      "\n"
     ]
    },
    {
     "data": {
      "text/html": [
       "<iframe id=\"igraph\" scrolling=\"no\" style=\"border:none;\" seamless=\"seamless\" src=\"https://plot.ly/~jayb1544/34.embed\" height=\"525px\" width=\"100%\"></iframe>"
      ],
      "text/plain": [
       "<plotly.tools.PlotlyDisplay object>"
      ]
     },
     "execution_count": 33,
     "metadata": {},
     "output_type": "execute_result"
    }
   ],
   "source": [
    "import statistics\n",
    "\n",
    "app_train = pd.read_csv('/Users/jayborkar/Downloads/all/application_train.csv')\n",
    "df= app_train[['TARGET', 'AMT_INCOME_TOTAL']]\n",
    "df=df.dropna()\n",
    "\n",
    "def percent(val,total):\n",
    "    return (val/total)*100\n",
    "\n",
    "cnt1_Total,cnt2_Total,cnt3_Total,cnt4_Total=0,0,0,0\n",
    "cnt1,cnt2,cnt3,cnt4=0,0,0,0\n",
    "perlist=[]\n",
    "\n",
    "for index, row in df.iterrows():\n",
    "    if row['AMT_INCOME_TOTAL']>=25650.0 and row['AMT_INCOME_TOTAL']<112500.0:\n",
    "        cnt1_Total=cnt1_Total+1\n",
    "        if row['TARGET']==1:\n",
    "            cnt1=cnt1+1\n",
    "    elif row['AMT_INCOME_TOTAL']>=112500.0 and row['AMT_INCOME_TOTAL']<147150.0:\n",
    "        cnt2_Total=cnt2_Total+1\n",
    "        if row['TARGET']==1:\n",
    "            cnt2=cnt2+1\n",
    "    elif row['AMT_INCOME_TOTAL']>=147150.0 and row['AMT_INCOME_TOTAL']<202500.0:\n",
    "        cnt3_Total=cnt3_Total+1\n",
    "        if row['TARGET']==1:\n",
    "            cnt3=cnt3+1\n",
    "    elif row['AMT_INCOME_TOTAL']>=202500.0 and row['AMT_INCOME_TOTAL']<=117000000.0:\n",
    "        cnt4_Total=cnt4_Total+1\n",
    "        if row['TARGET']==1:\n",
    "            cnt4=cnt4+1\n",
    "\n",
    "per=percent(cnt1,cnt1_Total)\n",
    "perlist.append(per)\n",
    "\n",
    "per=percent(cnt2,cnt2_Total)\n",
    "perlist.append(per)\n",
    "\n",
    "per=percent(cnt3,cnt3_Total)\n",
    "perlist.append(per)\n",
    "\n",
    "per=percent(cnt4,cnt4_Total)\n",
    "perlist.append(per)\n",
    "\n",
    "a,b,c,d=(statistics.median([25650.0,112500])),(statistics.median([112500,147150])),(statistics.median([147150,202500])),(statistics.median([202500,11700000]))\n",
    "d2=pd.Series([a,b,c,d])\n",
    "\n",
    "trace1 = go.Histogram(\n",
    "    x= app_train['AMT_INCOME_TOTAL'],\n",
    "    #opacity=0.75,\n",
    "    name='AMT_INCOME_TOTAL'\n",
    ")\n",
    "\n",
    "trace2 = go.Scatter(\n",
    "    x= d2,\n",
    "    y= pd.Series(perlist),\n",
    "    name='PERCENT OF TARGET=1',\n",
    "    yaxis='y2'\n",
    ")\n",
    "data = [trace1, trace2]\n",
    "layout = go.Layout(\n",
    "    title='AMT_INCOME_TOTAL',\n",
    "    yaxis=dict(\n",
    "        title='AMT_INCOME_TOTAL'\n",
    "    ),\n",
    "    yaxis2=dict(\n",
    "        title='PERCENT',\n",
    "        titlefont=dict(\n",
    "            color='rgb(148, 103, 189)'\n",
    "        ),\n",
    "        tickfont=dict(\n",
    "            color='rgb(148, 103, 189)'\n",
    "        ),\n",
    "        overlaying='y',\n",
    "        side='right'\n",
    "    )\n",
    ")\n",
    "fig = go.Figure(data=data, layout=layout)\n",
    "py.iplot(fig, filename='multiple-axes-double')\n",
    "\n"
   ]
  },
  {
   "cell_type": "code",
   "execution_count": 34,
   "metadata": {},
   "outputs": [
    {
     "data": {
      "text/plain": [
       "count    3.075110e+05\n",
       "mean     5.990260e+05\n",
       "std      4.024908e+05\n",
       "min      4.500000e+04\n",
       "25%      2.700000e+05\n",
       "50%      5.135310e+05\n",
       "75%      8.086500e+05\n",
       "max      4.050000e+06\n",
       "Name: AMT_CREDIT, dtype: float64"
      ]
     },
     "execution_count": 34,
     "metadata": {},
     "output_type": "execute_result"
    }
   ],
   "source": [
    "app_train['AMT_CREDIT'].describe()"
   ]
  },
  {
   "cell_type": "code",
   "execution_count": 35,
   "metadata": {},
   "outputs": [
    {
     "name": "stderr",
     "output_type": "stream",
     "text": [
      "/anaconda3/lib/python3.6/site-packages/plotly/plotly/plotly.py:233: UserWarning:\n",
      "\n",
      "Woah there! Look at all those points! Due to browser limitations, the Plotly SVG drawing functions have a hard time graphing more than 500k data points for line charts, or 40k points for other types of charts. Here are some suggestions:\n",
      "(1) Use the `plotly.graph_objs.Scattergl` trace object to generate a WebGl graph.\n",
      "(2) Trying using the image API to return an image instead of a graph URL\n",
      "(3) Use matplotlib\n",
      "(4) See if you can create your visualization with fewer data points\n",
      "\n",
      "If the visualization you're using aggregates points (e.g., box plot, histogram, etc.) you can disregard this warning.\n",
      "\n"
     ]
    },
    {
     "data": {
      "text/html": [
       "<iframe id=\"igraph\" scrolling=\"no\" style=\"border:none;\" seamless=\"seamless\" src=\"https://plot.ly/~jayb1544/34.embed\" height=\"525px\" width=\"100%\"></iframe>"
      ],
      "text/plain": [
       "<plotly.tools.PlotlyDisplay object>"
      ]
     },
     "execution_count": 35,
     "metadata": {},
     "output_type": "execute_result"
    }
   ],
   "source": [
    "import statistics\n",
    "\n",
    "app_train = pd.read_csv('/Users/jayborkar/Downloads/all/application_train.csv')\n",
    "df= app_train[['TARGET', 'AMT_CREDIT']]\n",
    "df=df.dropna()\n",
    "\n",
    "def percent(val,total):\n",
    "    return (val/total)*100\n",
    "\n",
    "cnt1_Total,cnt2_Total,cnt3_Total,cnt4_Total=0,0,0,0\n",
    "cnt1,cnt2,cnt3,cnt4=0,0,0,0\n",
    "perlist=[]\n",
    "\n",
    "for index, row in df.iterrows():\n",
    "    if row['AMT_CREDIT']>=45000.0 and row['AMT_CREDIT']<270000.0:\n",
    "        cnt1_Total=cnt1_Total+1\n",
    "        if row['TARGET']==1:\n",
    "            cnt1=cnt1+1\n",
    "    elif row['AMT_CREDIT']>=270000.0 and row['AMT_CREDIT']<513531.0:\n",
    "        cnt2_Total=cnt2_Total+1\n",
    "        if row['TARGET']==1:\n",
    "            cnt2=cnt2+1\n",
    "    elif row['AMT_CREDIT']>=513531.0 and row['AMT_CREDIT']<808650.0:\n",
    "        cnt3_Total=cnt3_Total+1\n",
    "        if row['TARGET']==1:\n",
    "            cnt3=cnt3+1\n",
    "    elif row['AMT_CREDIT']>=808650.0 and row['AMT_CREDIT']<=4050000.0:\n",
    "        cnt4_Total=cnt4_Total+1\n",
    "        if row['TARGET']==1:\n",
    "            cnt4=cnt4+1\n",
    "\n",
    "per=percent(cnt1,cnt1_Total)\n",
    "perlist.append(per)\n",
    "\n",
    "per=percent(cnt2,cnt2_Total)\n",
    "perlist.append(per)\n",
    "\n",
    "per=percent(cnt3,cnt3_Total)\n",
    "perlist.append(per)\n",
    "\n",
    "per=percent(cnt4,cnt4_Total)\n",
    "perlist.append(per)\n",
    "\n",
    "a,b,c,d=(statistics.median([45000,270000])),(statistics.median([270000,513531])),(statistics.median([513531,808650])),(statistics.median([808650,4050000]))\n",
    "d2=pd.Series([a,b,c,d])\n",
    "\n",
    "trace1 = go.Histogram(\n",
    "    x= app_train['AMT_CREDIT'],\n",
    "    #opacity=0.75,\n",
    "    name='AMT_CREDIT'\n",
    ")\n",
    "\n",
    "trace2 = go.Scatter(\n",
    "    x= d2,\n",
    "    y= pd.Series(perlist),\n",
    "    name='PERCENT OF TARGET=1',\n",
    "    yaxis='y2'\n",
    ")\n",
    "data = [trace1, trace2]\n",
    "layout = go.Layout(\n",
    "    title='AMT_CREDIT',\n",
    "    yaxis=dict(\n",
    "        title='AMT_CREDIT'\n",
    "    ),\n",
    "    yaxis2=dict(\n",
    "        title='PERCENT',\n",
    "        titlefont=dict(\n",
    "            color='rgb(148, 103, 189)'\n",
    "        ),\n",
    "        tickfont=dict(\n",
    "            color='rgb(148, 103, 189)'\n",
    "        ),\n",
    "        overlaying='y',\n",
    "        side='right'\n",
    "    )\n",
    ")\n",
    "fig = go.Figure(data=data, layout=layout)\n",
    "py.iplot(fig, filename='multiple-axes-double')\n"
   ]
  },
  {
   "cell_type": "code",
   "execution_count": 36,
   "metadata": {},
   "outputs": [
    {
     "data": {
      "text/plain": [
       "count    307499.000000\n",
       "mean      27108.573909\n",
       "std       14493.737315\n",
       "min        1615.500000\n",
       "25%       16524.000000\n",
       "50%       24903.000000\n",
       "75%       34596.000000\n",
       "max      258025.500000\n",
       "Name: AMT_ANNUITY, dtype: float64"
      ]
     },
     "execution_count": 36,
     "metadata": {},
     "output_type": "execute_result"
    }
   ],
   "source": [
    "app_train['AMT_ANNUITY'].describe()"
   ]
  },
  {
   "cell_type": "code",
   "execution_count": 37,
   "metadata": {},
   "outputs": [
    {
     "name": "stderr",
     "output_type": "stream",
     "text": [
      "/anaconda3/lib/python3.6/site-packages/plotly/plotly/plotly.py:233: UserWarning:\n",
      "\n",
      "Woah there! Look at all those points! Due to browser limitations, the Plotly SVG drawing functions have a hard time graphing more than 500k data points for line charts, or 40k points for other types of charts. Here are some suggestions:\n",
      "(1) Use the `plotly.graph_objs.Scattergl` trace object to generate a WebGl graph.\n",
      "(2) Trying using the image API to return an image instead of a graph URL\n",
      "(3) Use matplotlib\n",
      "(4) See if you can create your visualization with fewer data points\n",
      "\n",
      "If the visualization you're using aggregates points (e.g., box plot, histogram, etc.) you can disregard this warning.\n",
      "\n"
     ]
    },
    {
     "data": {
      "text/html": [
       "<iframe id=\"igraph\" scrolling=\"no\" style=\"border:none;\" seamless=\"seamless\" src=\"https://plot.ly/~jayb1544/40.embed\" height=\"525px\" width=\"100%\"></iframe>"
      ],
      "text/plain": [
       "<plotly.tools.PlotlyDisplay object>"
      ]
     },
     "execution_count": 37,
     "metadata": {},
     "output_type": "execute_result"
    }
   ],
   "source": [
    "import statistics\n",
    "\n",
    "app_train = pd.read_csv('/Users/jayborkar/Downloads/all/application_train.csv')\n",
    "df= app_train[['TARGET', 'AMT_ANNUITY']]\n",
    "df=df.dropna()\n",
    "\n",
    "def percent(val,total):\n",
    "    return (val/total)*100\n",
    "\n",
    "cnt1_Total,cnt2_Total,cnt3_Total,cnt4_Total=0,0,0,0\n",
    "cnt1,cnt2,cnt3,cnt4=0,0,0,0\n",
    "perlist=[]\n",
    "\n",
    "for index, row in df.iterrows():\n",
    "    if row['AMT_ANNUITY']>=1615.5 and row['AMT_ANNUITY']<16524.0:\n",
    "        cnt1_Total=cnt1_Total+1\n",
    "        if row['TARGET']==1:\n",
    "            cnt1=cnt1+1\n",
    "    elif row['AMT_ANNUITY']>=16524.0 and row['AMT_ANNUITY']<24903.0:\n",
    "        cnt2_Total=cnt2_Total+1\n",
    "        if row['TARGET']==1:\n",
    "            cnt2=cnt2+1\n",
    "    elif row['AMT_ANNUITY']>=24903.0 and row['AMT_ANNUITY']<34596.0:\n",
    "        cnt3_Total=cnt3_Total+1\n",
    "        if row['TARGET']==1:\n",
    "            cnt3=cnt3+1\n",
    "    elif row['AMT_ANNUITY']>=34596.0 and row['AMT_ANNUITY']<=258025.5:\n",
    "        cnt4_Total=cnt4_Total+1\n",
    "        if row['TARGET']==1:\n",
    "            cnt4=cnt4+1\n",
    "\n",
    "per=percent(cnt1,cnt1_Total)\n",
    "perlist.append(per)\n",
    "\n",
    "per=percent(cnt2,cnt2_Total)\n",
    "perlist.append(per)\n",
    "\n",
    "per=percent(cnt3,cnt3_Total)\n",
    "perlist.append(per)\n",
    "\n",
    "per=percent(cnt4,cnt4_Total)\n",
    "perlist.append(per)\n",
    "\n",
    "a,b,c,d=(statistics.median([1615.5,16524.0])),(statistics.median([16524.0,24903.0])),(statistics.median([24903.0,34596.0])),(statistics.median([34596.0,258025.5]))\n",
    "d2=pd.Series([a,b,c,d])\n",
    "\n",
    "trace1 = go.Histogram(\n",
    "    x= app_train['AMT_ANNUITY'],\n",
    "    #opacity=0.75,\n",
    "    name='AMT_ANNUITY'\n",
    ")\n",
    "\n",
    "trace2 = go.Scatter(\n",
    "    x= d2,\n",
    "    y= pd.Series(perlist),\n",
    "    name='PERCENT OF TARGET=1',\n",
    "    yaxis='y2'\n",
    ")\n",
    "data = [trace1, trace2]\n",
    "layout = go.Layout(\n",
    "    title='AMT_ANNUITY',\n",
    "    yaxis=dict(\n",
    "        title='AMT_ANNUITY'\n",
    "    ),\n",
    "    yaxis2=dict(\n",
    "        title='PERCENT',\n",
    "        titlefont=dict(\n",
    "            color='rgb(148, 103, 189)'\n",
    "        ),\n",
    "        tickfont=dict(\n",
    "            color='rgb(148, 103, 189)'\n",
    "        ),\n",
    "        overlaying='y',\n",
    "        side='right'\n",
    "    )\n",
    ")\n",
    "fig = go.Figure(data=data, layout=layout)\n",
    "py.iplot(fig, filename='multiple-axes-doub')\n"
   ]
  },
  {
   "cell_type": "code",
   "execution_count": 31,
   "metadata": {},
   "outputs": [
    {
     "data": {
      "text/html": [
       "<iframe id=\"igraph\" scrolling=\"no\" style=\"border:none;\" seamless=\"seamless\" src=\"https://plot.ly/~jayb1544/34.embed\" height=\"525px\" width=\"100%\"></iframe>"
      ],
      "text/plain": [
       "<plotly.tools.PlotlyDisplay object>"
      ]
     },
     "execution_count": 31,
     "metadata": {},
     "output_type": "execute_result"
    }
   ],
   "source": [
    "import plotly.plotly as py\n",
    "import plotly.graph_objs as go\n",
    "\n",
    "app_train = pd.read_csv('/Users/jayborkar/Downloads/all/application_train.csv')\n",
    "\n",
    "def per(source):\n",
    "    return (source[1]/source['sum'])*100\n",
    "\n",
    "group_by_source = app_train.groupby(['NAME_INCOME_TYPE','TARGET'])\n",
    "group_by_source.size()\n",
    "c= group_by_source.size().unstack()\n",
    "c=c.fillna(0)\n",
    "\n",
    "c['sum']=c[0] + c[1]\n",
    "c['percent'] = c.apply(per,axis=1)\n",
    "c= c.sort_values('sum',ascending=False )\n",
    "trace1 = go.Bar(\n",
    "    x = c.index,\n",
    "    y = c['sum'] ,\n",
    "    name='NAME_INCOME_TYPE'\n",
    ")\n",
    "\n",
    "trace2 = go.Scatter(\n",
    "    x= c.index,\n",
    "    y= c['percent'],\n",
    "    name='PERCENT OF TARGET=1',\n",
    "    yaxis='y2'\n",
    ")\n",
    "data = [trace1, trace2]\n",
    "layout = go.Layout(\n",
    "    title='NAME_INCOME_TYPE Vs PERCENT OF TARGET=1',\n",
    "    xaxis=dict(\n",
    "        title='NAME_INCOME_TYPE'\n",
    "    ),\n",
    "    yaxis=dict(\n",
    "        title='COUNT'\n",
    "    ),\n",
    "    yaxis2=dict(\n",
    "        title='PERCENT OF TARGET=1',\n",
    "        titlefont=dict(\n",
    "            color='rgb(148, 103, 189)'\n",
    "        ),\n",
    "        tickfont=dict(\n",
    "            color='rgb(148, 103, 189)'\n",
    "        ),\n",
    "        overlaying='y',\n",
    "        side='right'\n",
    "    )\n",
    ")\n",
    "fig = go.Figure(data=data, layout=layout)\n",
    "py.iplot(fig, filename='multiple-axes-double')"
   ]
  },
  {
   "cell_type": "code",
   "execution_count": 27,
   "metadata": {},
   "outputs": [
    {
     "data": {
      "text/html": [
       "<iframe id=\"igraph\" scrolling=\"no\" style=\"border:none;\" seamless=\"seamless\" src=\"https://plot.ly/~jayb1544/34.embed\" height=\"525px\" width=\"100%\"></iframe>"
      ],
      "text/plain": [
       "<plotly.tools.PlotlyDisplay object>"
      ]
     },
     "execution_count": 27,
     "metadata": {},
     "output_type": "execute_result"
    }
   ],
   "source": [
    "import plotly.plotly as py\n",
    "import plotly.graph_objs as go\n",
    "\n",
    "app_train = pd.read_csv('/Users/jayborkar/Downloads/all/application_train.csv')\n",
    "\n",
    "def per(source):\n",
    "    return (source[1]/source['sum'])*100\n",
    "\n",
    "group_by_source = app_train.groupby(['OCCUPATION_TYPE','TARGET'])\n",
    "group_by_source.size()\n",
    "c= group_by_source.size().unstack()\n",
    "c=c.fillna(0)\n",
    "\n",
    "c['sum']=c[0] + c[1]\n",
    "c['percent'] = c.apply(per,axis=1)\n",
    "c= c.sort_values('sum',ascending=False )\n",
    "\n",
    "trace1 = go.Bar(\n",
    "    x= c.index,\n",
    "    y = c['sum'] ,\n",
    "    name='OCCUPATION_TYPE'\n",
    ")\n",
    "\n",
    "trace2 = go.Scatter(\n",
    "    x= c.index,\n",
    "    y= c['percent'],\n",
    "    name='PERCENT OF TARGET=1',\n",
    "    yaxis='y2'\n",
    ")\n",
    "data = [trace1, trace2]\n",
    "layout = go.Layout(\n",
    "    title='Count of OCCUPATION_TYPE Vs PERCENT OF TARGET=1',\n",
    "     xaxis=dict(\n",
    "        title='OCCUPATION_TYPE'\n",
    "    ),\n",
    "    yaxis=dict(\n",
    "        title='COUNT'\n",
    "    ),\n",
    "    yaxis2=dict(\n",
    "        title='PERCENT',\n",
    "        titlefont=dict(\n",
    "            color='rgb(148, 103, 189)'\n",
    "        ),\n",
    "        tickfont=dict(\n",
    "            color='rgb(148, 103, 189)'\n",
    "        ),\n",
    "        overlaying='y',\n",
    "        side='right'\n",
    "    )\n",
    ")\n",
    "fig = go.Figure(data=data, layout=layout)\n",
    "py.iplot(fig, filename='multiple-axes-double')\n"
   ]
  },
  {
   "cell_type": "code",
   "execution_count": 25,
   "metadata": {},
   "outputs": [
    {
     "data": {
      "text/html": [
       "<iframe id=\"igraph\" scrolling=\"no\" style=\"border:none;\" seamless=\"seamless\" src=\"https://plot.ly/~jayb1544/36.embed\" height=\"525px\" width=\"100%\"></iframe>"
      ],
      "text/plain": [
       "<plotly.tools.PlotlyDisplay object>"
      ]
     },
     "execution_count": 25,
     "metadata": {},
     "output_type": "execute_result"
    }
   ],
   "source": [
    "import plotly.plotly as py\n",
    "import plotly.graph_objs as go\n",
    "\n",
    "app_train = pd.read_csv('/Users/jayborkar/Downloads/all/application_train.csv')\n",
    "\n",
    "def per(source):\n",
    "    return (source[1]/source['sum'])*100\n",
    "\n",
    "group_by_source = app_train.groupby(['FLAG_OWN_CAR','TARGET'])\n",
    "group_by_source.size()\n",
    "c= group_by_source.size().unstack()\n",
    "c=c.fillna(0)\n",
    "\n",
    "c['sum']=c[0] + c[1]\n",
    "c['percent'] = c.apply(per,axis=1)\n",
    "c= c.sort_values('sum',ascending=False )\n",
    "\n",
    "trace1 = go.Bar(\n",
    "    x= c.index,\n",
    "    y = c['sum'] ,\n",
    "    name='FLAG_OWN_CAR'\n",
    ")\n",
    "\n",
    "trace2 = go.Scatter(\n",
    "    x= c.index,\n",
    "    y= c['percent'],\n",
    "    name='PERCENT OF TARGET=1',\n",
    "    yaxis='y2'\n",
    ")\n",
    "data = [trace1, trace2]\n",
    "layout = go.Layout(\n",
    "    title='count of FLAG_OWN_CAR Vs PERCENT OF TARGET=1',\n",
    "    xaxis=dict(\n",
    "        title='FLAG_OWN_CAR'\n",
    "    ),\n",
    "    yaxis=dict(\n",
    "        title='COUNT'\n",
    "    ),\n",
    "    yaxis2=dict(\n",
    "        title='PERCENT',\n",
    "        titlefont=dict(\n",
    "            color='rgb(148, 103, 189)'\n",
    "        ),\n",
    "        tickfont=dict(\n",
    "            color='rgb(148, 103, 189)'\n",
    "        ),\n",
    "        overlaying='y',\n",
    "        side='right'\n",
    "    )\n",
    ")\n",
    "fig = go.Figure(data=data, layout=layout)\n",
    "py.iplot(fig, filename='multiple')"
   ]
  },
  {
   "cell_type": "code",
   "execution_count": 28,
   "metadata": {},
   "outputs": [
    {
     "data": {
      "text/html": [
       "<iframe id=\"igraph\" scrolling=\"no\" style=\"border:none;\" seamless=\"seamless\" src=\"https://plot.ly/~jayb1544/36.embed\" height=\"525px\" width=\"100%\"></iframe>"
      ],
      "text/plain": [
       "<plotly.tools.PlotlyDisplay object>"
      ]
     },
     "execution_count": 28,
     "metadata": {},
     "output_type": "execute_result"
    }
   ],
   "source": [
    "import plotly.plotly as py\n",
    "import plotly.graph_objs as go\n",
    "\n",
    "app_train = pd.read_csv('/Users/jayborkar/Downloads/all/application_train.csv')\n",
    "\n",
    "def per(source):\n",
    "    return (source[1]/source['sum'])*100\n",
    "\n",
    "group_by_source = app_train.groupby(['FLAG_OWN_REALTY','TARGET'])\n",
    "group_by_source.size()\n",
    "c= group_by_source.size().unstack()\n",
    "c=c.fillna(0)\n",
    "\n",
    "c['sum']=c[0] + c[1]\n",
    "c['percent'] = c.apply(per,axis=1)\n",
    "c= c.sort_values('sum',ascending=False )\n",
    "\n",
    "trace1 = go.Bar(\n",
    "    x= c.index,\n",
    "    y = c['sum'] ,\n",
    "    name='FLAG_OWN_REALTY'\n",
    ")\n",
    "\n",
    "trace2 = go.Scatter(\n",
    "    x= c.index,\n",
    "    y= c['percent'],\n",
    "    name='PERCENT OF TARGET=1',\n",
    "    yaxis='y2'\n",
    ")\n",
    "data = [trace1, trace2]\n",
    "layout = go.Layout(\n",
    "    title='count of FLAG_OWN_REALTY Vs PERCENT OF TARGET=1',\n",
    "    xaxis=dict(\n",
    "        title='FLAG_OWN_REALTY'\n",
    "    ),\n",
    "    yaxis=dict(\n",
    "        title='COUNT'\n",
    "    ),\n",
    "    yaxis2=dict(\n",
    "        title='PERCENT',\n",
    "        titlefont=dict(\n",
    "            color='rgb(148, 103, 189)'\n",
    "        ),\n",
    "        tickfont=dict(\n",
    "            color='rgb(148, 103, 189)'\n",
    "        ),\n",
    "        overlaying='y',\n",
    "        side='right'\n",
    "    )\n",
    ")\n",
    "fig = go.Figure(data=data, layout=layout)\n",
    "py.iplot(fig, filename='multiple')"
   ]
  },
  {
   "cell_type": "code",
   "execution_count": 42,
   "metadata": {},
   "outputs": [
    {
     "data": {
      "text/html": [
       "<iframe id=\"igraph\" scrolling=\"no\" style=\"border:none;\" seamless=\"seamless\" src=\"https://plot.ly/~jayb1544/42.embed\" height=\"525px\" width=\"100%\"></iframe>"
      ],
      "text/plain": [
       "<plotly.tools.PlotlyDisplay object>"
      ]
     },
     "execution_count": 42,
     "metadata": {},
     "output_type": "execute_result"
    }
   ],
   "source": [
    "import plotly.plotly as py\n",
    "import plotly.graph_objs as go\n",
    "\n",
    "app_train = pd.read_csv('/Users/jayborkar/Downloads/all/application_train.csv')\n",
    "\n",
    "def per(source):\n",
    "    return (source[1]/source['sum'])*100\n",
    "\n",
    "group_by_source = app_train.groupby(['NAME_EDUCATION_TYPE','TARGET'])\n",
    "group_by_source.size()\n",
    "c= group_by_source.size().unstack()\n",
    "c=c.fillna(0)\n",
    "\n",
    "c['sum']=c[0] + c[1]\n",
    "c['percent'] = c.apply(per,axis=1)\n",
    "c= c.sort_values('sum',ascending=False )\n",
    "trace1 = go.Bar(\n",
    "    x = c.index,\n",
    "    y = c['sum'] ,\n",
    "    name='NAME_EDUCATION_TYPE'\n",
    ")\n",
    "\n",
    "trace2 = go.Scatter(\n",
    "    x= c.index,\n",
    "    y= c['percent'],\n",
    "    name='PERCENT OF TARGET=1',\n",
    "    yaxis='y2'\n",
    ")\n",
    "data = [trace1, trace2]\n",
    "layout = go.Layout(\n",
    "    title='NAME_EDUCATION_TYPE',\n",
    "    yaxis=dict(\n",
    "        title='NAME_EDUCATION_TYPE'\n",
    "    ),\n",
    "    yaxis2=dict(\n",
    "        title='PERCENT',\n",
    "        titlefont=dict(\n",
    "            color='rgb(148, 103, 189)'\n",
    "        ),\n",
    "        tickfont=dict(\n",
    "            color='rgb(148, 103, 189)'\n",
    "        ),\n",
    "        overlaying='y',\n",
    "        side='right'\n",
    "    )\n",
    ")\n",
    "fig = go.Figure(data=data, layout=layout)\n",
    "py.iplot(fig, filename='multipleM')"
   ]
  },
  {
   "cell_type": "code",
   "execution_count": 43,
   "metadata": {},
   "outputs": [
    {
     "data": {
      "text/html": [
       "<iframe id=\"igraph\" scrolling=\"no\" style=\"border:none;\" seamless=\"seamless\" src=\"https://plot.ly/~jayb1544/42.embed\" height=\"525px\" width=\"100%\"></iframe>"
      ],
      "text/plain": [
       "<plotly.tools.PlotlyDisplay object>"
      ]
     },
     "execution_count": 43,
     "metadata": {},
     "output_type": "execute_result"
    }
   ],
   "source": [
    "import plotly.plotly as py\n",
    "import plotly.graph_objs as go\n",
    "\n",
    "app_train = pd.read_csv('/Users/jayborkar/Downloads/all/application_train.csv')\n",
    "\n",
    "def per(source):\n",
    "    return (source[1]/source['sum'])*100\n",
    "\n",
    "group_by_source = app_train.groupby(['NAME_HOUSING_TYPE','TARGET'])\n",
    "group_by_source.size()\n",
    "c= group_by_source.size().unstack()\n",
    "c=c.fillna(0)\n",
    "\n",
    "c['sum']=c[0] + c[1]\n",
    "c['percent'] = c.apply(per,axis=1)\n",
    "c= c.sort_values('sum',ascending=False )\n",
    "trace1 = go.Bar(\n",
    "    x = c.index,\n",
    "    y = c['sum'] ,\n",
    "    name='NAME_HOUSING_TYPE'\n",
    ")\n",
    "\n",
    "trace2 = go.Scatter(\n",
    "    x= c.index,\n",
    "    y= c['percent'],\n",
    "    name='PERCENT OF TARGET=1',\n",
    "    yaxis='y2'\n",
    ")\n",
    "data = [trace1, trace2]\n",
    "layout = go.Layout(\n",
    "    title='NAME_HOUSING_TYPE',\n",
    "    yaxis=dict(\n",
    "        title='NAME_HOUSING_TYPE'\n",
    "    ),\n",
    "    yaxis2=dict(\n",
    "        title='PERCENT',\n",
    "        titlefont=dict(\n",
    "            color='rgb(148, 103, 189)'\n",
    "        ),\n",
    "        tickfont=dict(\n",
    "            color='rgb(148, 103, 189)'\n",
    "        ),\n",
    "        overlaying='y',\n",
    "        side='right'\n",
    "    )\n",
    ")\n",
    "fig = go.Figure(data=data, layout=layout)\n",
    "py.iplot(fig, filename='multipleM')"
   ]
  },
  {
   "cell_type": "code",
   "execution_count": 44,
   "metadata": {},
   "outputs": [
    {
     "data": {
      "text/plain": [
       "count    307511.000000\n",
       "mean         43.936973\n",
       "std          11.956133\n",
       "min          20.517808\n",
       "25%          34.008219\n",
       "50%          43.150685\n",
       "75%          53.923288\n",
       "max          69.120548\n",
       "Name: DAYS_BIRTH, dtype: float64"
      ]
     },
     "execution_count": 44,
     "metadata": {},
     "output_type": "execute_result"
    }
   ],
   "source": [
    "(app_train['DAYS_BIRTH'] / -365).describe()"
   ]
  },
  {
   "cell_type": "code",
   "execution_count": 21,
   "metadata": {},
   "outputs": [
    {
     "name": "stderr",
     "output_type": "stream",
     "text": [
      "/anaconda3/lib/python3.6/site-packages/plotly/plotly/plotly.py:233: UserWarning:\n",
      "\n",
      "Woah there! Look at all those points! Due to browser limitations, the Plotly SVG drawing functions have a hard time graphing more than 500k data points for line charts, or 40k points for other types of charts. Here are some suggestions:\n",
      "(1) Use the `plotly.graph_objs.Scattergl` trace object to generate a WebGl graph.\n",
      "(2) Trying using the image API to return an image instead of a graph URL\n",
      "(3) Use matplotlib\n",
      "(4) See if you can create your visualization with fewer data points\n",
      "\n",
      "If the visualization you're using aggregates points (e.g., box plot, histogram, etc.) you can disregard this warning.\n",
      "\n"
     ]
    },
    {
     "data": {
      "text/html": [
       "<iframe id=\"igraph\" scrolling=\"no\" style=\"border:none;\" seamless=\"seamless\" src=\"https://plot.ly/~jayb1544/40.embed\" height=\"525px\" width=\"100%\"></iframe>"
      ],
      "text/plain": [
       "<plotly.tools.PlotlyDisplay object>"
      ]
     },
     "execution_count": 21,
     "metadata": {},
     "output_type": "execute_result"
    }
   ],
   "source": [
    "import statistics\n",
    "\n",
    "app_train = pd.read_csv('/Users/jayborkar/Downloads/all/application_train.csv')\n",
    "df= app_train[['TARGET', 'DAYS_BIRTH']]\n",
    "df=df.dropna()\n",
    "df['DAYS_BIRTH']=df['DAYS_BIRTH']/-365\n",
    "\n",
    "def percent(val,total):\n",
    "    return (val/total)*100\n",
    "\n",
    "cnt1_Total,cnt2_Total,cnt3_Total,cnt4_Total=0,0,0,0\n",
    "cnt1,cnt2,cnt3,cnt4=0,0,0,0\n",
    "perlist=[]\n",
    "\n",
    "for index, row in df.iterrows():\n",
    "    if row['DAYS_BIRTH']>=20.517808 and row['DAYS_BIRTH']<34.008219:\n",
    "        cnt1_Total=cnt1_Total+1\n",
    "        if row['TARGET']==1:\n",
    "            cnt1=cnt1+1\n",
    "    elif row['DAYS_BIRTH']>=34.008219 and row['DAYS_BIRTH']<43.150685:\n",
    "        cnt2_Total=cnt2_Total+1\n",
    "        if row['TARGET']==1:\n",
    "            cnt2=cnt2+1\n",
    "    elif row['DAYS_BIRTH']>=43.150685 and row['DAYS_BIRTH']<53.923288:\n",
    "        cnt3_Total=cnt3_Total+1\n",
    "        if row['TARGET']==1:\n",
    "            cnt3=cnt3+1\n",
    "    elif row['DAYS_BIRTH']>=53.923288 and row['DAYS_BIRTH']<=69.120548:\n",
    "        cnt4_Total=cnt4_Total+1\n",
    "        if row['TARGET']==1:\n",
    "            cnt4=cnt4+1\n",
    "\n",
    "per=percent(cnt1,cnt1_Total)\n",
    "perlist.append(per)\n",
    "\n",
    "per=percent(cnt2,cnt2_Total)\n",
    "perlist.append(per)\n",
    "\n",
    "per=percent(cnt3,cnt3_Total)\n",
    "perlist.append(per)\n",
    "\n",
    "per=percent(cnt4,cnt4_Total)\n",
    "perlist.append(per)\n",
    "\n",
    "a,b,c,d=(statistics.median([20.517808,34.008219])),(statistics.median([34.008219,43.150685])),(statistics.median([43.150685,53.923288])),(statistics.median([53.923288,69.120548]))\n",
    "d2=pd.Series([a,b,c,d])\n",
    "\n",
    "trace1 = go.Histogram(\n",
    "    x= df['DAYS_BIRTH'],\n",
    "    #opacity=0.75,\n",
    "    name='DAYS_BIRTH'\n",
    ")\n",
    "\n",
    "trace2 = go.Scatter(\n",
    "    x= d2,\n",
    "    y= pd.Series(perlist),\n",
    "    name='PERCENT OF TARGET=1',\n",
    "    yaxis='y2'\n",
    ")\n",
    "data = [trace1, trace2]\n",
    "layout = go.Layout(\n",
    "    title='count of DAYS_BIRTH Vs PERCENT OF TARGET=1',\n",
    "    xaxis=dict(\n",
    "        title='DAYS_BIRTH'),\n",
    "    yaxis=dict(\n",
    "        title='Count'\n",
    "    ),\n",
    "    yaxis2=dict(\n",
    "        title='PERCENT',\n",
    "        titlefont=dict(\n",
    "            color='rgb(148, 103, 189)'\n",
    "        ),\n",
    "        tickfont=dict(\n",
    "            color='rgb(148, 103, 189)'\n",
    "        ),\n",
    "        overlaying='y',\n",
    "        side='right'\n",
    "    )\n",
    ")\n",
    "fig = go.Figure(data=data, layout=layout)\n",
    "py.iplot(fig, filename='multiple-axes-doub')"
   ]
  },
  {
   "cell_type": "code",
   "execution_count": 46,
   "metadata": {},
   "outputs": [
    {
     "data": {
      "text/plain": [
       "count    104582.000000\n",
       "mean         12.061091\n",
       "std          11.944812\n",
       "min           0.000000\n",
       "25%           5.000000\n",
       "50%           9.000000\n",
       "75%          15.000000\n",
       "max          91.000000\n",
       "Name: OWN_CAR_AGE, dtype: float64"
      ]
     },
     "execution_count": 46,
     "metadata": {},
     "output_type": "execute_result"
    }
   ],
   "source": [
    "app_train['OWN_CAR_AGE'].describe()"
   ]
  },
  {
   "cell_type": "code",
   "execution_count": 47,
   "metadata": {},
   "outputs": [
    {
     "name": "stderr",
     "output_type": "stream",
     "text": [
      "/anaconda3/lib/python3.6/site-packages/plotly/plotly/plotly.py:233: UserWarning:\n",
      "\n",
      "Woah there! Look at all those points! Due to browser limitations, the Plotly SVG drawing functions have a hard time graphing more than 500k data points for line charts, or 40k points for other types of charts. Here are some suggestions:\n",
      "(1) Use the `plotly.graph_objs.Scattergl` trace object to generate a WebGl graph.\n",
      "(2) Trying using the image API to return an image instead of a graph URL\n",
      "(3) Use matplotlib\n",
      "(4) See if you can create your visualization with fewer data points\n",
      "\n",
      "If the visualization you're using aggregates points (e.g., box plot, histogram, etc.) you can disregard this warning.\n",
      "\n"
     ]
    },
    {
     "data": {
      "text/html": [
       "<iframe id=\"igraph\" scrolling=\"no\" style=\"border:none;\" seamless=\"seamless\" src=\"https://plot.ly/~jayb1544/40.embed\" height=\"525px\" width=\"100%\"></iframe>"
      ],
      "text/plain": [
       "<plotly.tools.PlotlyDisplay object>"
      ]
     },
     "execution_count": 47,
     "metadata": {},
     "output_type": "execute_result"
    }
   ],
   "source": [
    "import statistics\n",
    "\n",
    "app_train = pd.read_csv('/Users/jayborkar/Downloads/all/application_train.csv')\n",
    "df= app_train[['TARGET', 'OWN_CAR_AGE']]\n",
    "df=df.dropna()\n",
    "\n",
    "def percent(val,total):\n",
    "    return (val/total)*100\n",
    "\n",
    "cnt1_Total,cnt2_Total,cnt3_Total,cnt4_Total=0,0,0,0\n",
    "cnt1,cnt2,cnt3,cnt4=0,0,0,0\n",
    "perlist=[]\n",
    "\n",
    "for index, row in df.iterrows():\n",
    "    if row['OWN_CAR_AGE']>=0.0 and row['OWN_CAR_AGE']<5.0:\n",
    "        cnt1_Total=cnt1_Total+1\n",
    "        if row['TARGET']==1:\n",
    "            cnt1=cnt1+1\n",
    "    elif row['OWN_CAR_AGE']>=5.0 and row['OWN_CAR_AGE']<9.0:\n",
    "        cnt2_Total=cnt2_Total+1\n",
    "        if row['TARGET']==1:\n",
    "            cnt2=cnt2+1\n",
    "    elif row['OWN_CAR_AGE']>=9.0 and row['OWN_CAR_AGE']<15.0:\n",
    "        cnt3_Total=cnt3_Total+1\n",
    "        if row['TARGET']==1:\n",
    "            cnt3=cnt3+1\n",
    "    elif row['OWN_CAR_AGE']>=15.0 and row['OWN_CAR_AGE']<=91.0:\n",
    "        cnt4_Total=cnt4_Total+1\n",
    "        if row['TARGET']==1:\n",
    "            cnt4=cnt4+1\n",
    "\n",
    "per=percent(cnt1,cnt1_Total)\n",
    "perlist.append(per)\n",
    "\n",
    "per=percent(cnt2,cnt2_Total)\n",
    "perlist.append(per)\n",
    "\n",
    "per=percent(cnt3,cnt3_Total)\n",
    "perlist.append(per)\n",
    "\n",
    "per=percent(cnt4,cnt4_Total)\n",
    "perlist.append(per)\n",
    "\n",
    "a,b,c,d=(statistics.median([0,5])),(statistics.median([5,9])),(statistics.median([9,15])),(statistics.median([15,91]))\n",
    "d2=pd.Series([a,b,c,d])\n",
    "\n",
    "trace1 = go.Histogram(\n",
    "    x= df['OWN_CAR_AGE'],\n",
    "    #opacity=0.75,\n",
    "    name='OWN_CAR_AGE'\n",
    ")\n",
    "\n",
    "trace2 = go.Scatter(\n",
    "    x= d2,\n",
    "    y= pd.Series(perlist),\n",
    "    name='PERCENT OF TARGET=1',\n",
    "    yaxis='y2'\n",
    ")\n",
    "data = [trace1, trace2]\n",
    "layout = go.Layout(\n",
    "    title='OWN_CAR_AGE',\n",
    "    yaxis=dict(\n",
    "        title='OWN_CAR_AGE'\n",
    "    ),\n",
    "    yaxis2=dict(\n",
    "        title='PERCENT',\n",
    "        titlefont=dict(\n",
    "            color='rgb(148, 103, 189)'\n",
    "        ),\n",
    "        tickfont=dict(\n",
    "            color='rgb(148, 103, 189)'\n",
    "        ),\n",
    "        overlaying='y',\n",
    "        side='right'\n",
    "    )\n",
    ")\n",
    "fig = go.Figure(data=data, layout=layout)\n",
    "py.iplot(fig, filename='multiple-axes-doub')"
   ]
  },
  {
   "cell_type": "code",
   "execution_count": 48,
   "metadata": {},
   "outputs": [
    {
     "data": {
      "text/html": [
       "<iframe id=\"igraph\" scrolling=\"no\" style=\"border:none;\" seamless=\"seamless\" src=\"https://plot.ly/~jayb1544/36.embed\" height=\"525px\" width=\"100%\"></iframe>"
      ],
      "text/plain": [
       "<plotly.tools.PlotlyDisplay object>"
      ]
     },
     "execution_count": 48,
     "metadata": {},
     "output_type": "execute_result"
    }
   ],
   "source": [
    "import plotly.plotly as py\n",
    "import plotly.graph_objs as go\n",
    "\n",
    "app_train = pd.read_csv('/Users/jayborkar/Downloads/all/application_train.csv')\n",
    "\n",
    "def per(source):\n",
    "    return (source[1]/source['sum'])*100\n",
    "\n",
    "group_by_source = app_train.groupby(['ORGANIZATION_TYPE','TARGET'])\n",
    "group_by_source.size()\n",
    "c= group_by_source.size().unstack()\n",
    "c=c.fillna(0)\n",
    "\n",
    "c['sum']=c[0] + c[1]\n",
    "c['percent'] = c.apply(per,axis=1)\n",
    "c= c.sort_values('sum',ascending=False )\n",
    "\n",
    "trace1 = go.Bar(\n",
    "    x= c.index,\n",
    "    y = c['sum'] ,\n",
    "    name='ORGANIZATION_TYPE'\n",
    ")\n",
    "\n",
    "trace2 = go.Scatter(\n",
    "    x= c.index,\n",
    "    y= c['percent'],\n",
    "    name='PERCENT OF TARGET=1',\n",
    "    yaxis='y2'\n",
    ")\n",
    "data = [trace1, trace2]\n",
    "layout = go.Layout(\n",
    "    title='ORGANIZATION_TYPE',\n",
    "    yaxis=dict(\n",
    "        title='ORGANIZATION_TYPE'\n",
    "    ),\n",
    "    yaxis2=dict(\n",
    "        title='PERCENT',\n",
    "        titlefont=dict(\n",
    "            color='rgb(148, 103, 189)'\n",
    "        ),\n",
    "        tickfont=dict(\n",
    "            color='rgb(148, 103, 189)'\n",
    "        ),\n",
    "        overlaying='y',\n",
    "        side='right'\n",
    "    )\n",
    ")\n",
    "fig = go.Figure(data=data, layout=layout)\n",
    "py.iplot(fig, filename='multiple')"
   ]
  },
  {
   "cell_type": "code",
   "execution_count": 49,
   "metadata": {},
   "outputs": [
    {
     "data": {
      "text/plain": [
       "count    307511.000000\n",
       "mean       -174.835742\n",
       "std         387.056895\n",
       "min       -1000.665753\n",
       "25%           0.791781\n",
       "50%           3.323288\n",
       "75%           7.561644\n",
       "max          49.073973\n",
       "Name: DAYS_EMPLOYED, dtype: float64"
      ]
     },
     "execution_count": 49,
     "metadata": {},
     "output_type": "execute_result"
    }
   ],
   "source": [
    "(app_train['DAYS_EMPLOYED']/-365).describe()"
   ]
  },
  {
   "cell_type": "code",
   "execution_count": 55,
   "metadata": {},
   "outputs": [
    {
     "name": "stderr",
     "output_type": "stream",
     "text": [
      "/anaconda3/lib/python3.6/site-packages/plotly/plotly/plotly.py:233: UserWarning:\n",
      "\n",
      "Woah there! Look at all those points! Due to browser limitations, the Plotly SVG drawing functions have a hard time graphing more than 500k data points for line charts, or 40k points for other types of charts. Here are some suggestions:\n",
      "(1) Use the `plotly.graph_objs.Scattergl` trace object to generate a WebGl graph.\n",
      "(2) Trying using the image API to return an image instead of a graph URL\n",
      "(3) Use matplotlib\n",
      "(4) See if you can create your visualization with fewer data points\n",
      "\n",
      "If the visualization you're using aggregates points (e.g., box plot, histogram, etc.) you can disregard this warning.\n",
      "\n"
     ]
    },
    {
     "name": "stdout",
     "output_type": "stream",
     "text": [
      "The draw time for this plot will be slow for all clients.\n"
     ]
    },
    {
     "name": "stderr",
     "output_type": "stream",
     "text": [
      "/anaconda3/lib/python3.6/site-packages/plotly/api/v1/clientresp.py:40: UserWarning:\n",
      "\n",
      "Estimated Draw Time Too Long\n",
      "\n"
     ]
    },
    {
     "data": {
      "text/html": [
       "<iframe id=\"igraph\" scrolling=\"no\" style=\"border:none;\" seamless=\"seamless\" src=\"https://plot.ly/~jayb1544/48.embed\" height=\"525px\" width=\"100%\"></iframe>"
      ],
      "text/plain": [
       "<plotly.tools.PlotlyDisplay object>"
      ]
     },
     "execution_count": 55,
     "metadata": {},
     "output_type": "execute_result"
    }
   ],
   "source": [
    "temp = app_train[\"DAYS_EMPLOYED\"]\n",
    "trace = go.Bar(\n",
    "    x = temp.index,\n",
    "    y = temp ,\n",
    ")\n",
    "data = [trace]\n",
    "layout = go.Layout(\n",
    "    title = \"DAYS_EMPLOYED \",\n",
    "    xaxis=dict(\n",
    "        title='DAYS_EMPLOYED',\n",
    "        tickfont=dict(\n",
    "            size=14,\n",
    "            color='rgb(107, 107, 107)'\n",
    "        )\n",
    "    ),\n",
    "    yaxis=dict(\n",
    "        title='Count',\n",
    "        titlefont=dict(\n",
    "            size=16,\n",
    "            color='rgb(107, 107, 107)'\n",
    "        ),\n",
    "        tickfont=dict(\n",
    "            size=14,\n",
    "            color='rgb(107, 107, 107)'\n",
    "        )\n",
    ")\n",
    ")\n",
    "fig = go.Figure(data=data, layout=layout)\n",
    "py.iplot(fig)"
   ]
  },
  {
   "cell_type": "code",
   "execution_count": 56,
   "metadata": {},
   "outputs": [
    {
     "ename": "KeyError",
     "evalue": "'DAYS_EMPLOYED'",
     "output_type": "error",
     "traceback": [
      "\u001b[0;31m---------------------------------------------------------------------------\u001b[0m",
      "\u001b[0;31mTypeError\u001b[0m                                 Traceback (most recent call last)",
      "\u001b[0;32mpandas/_libs/index.pyx\u001b[0m in \u001b[0;36mpandas._libs.index.IndexEngine.get_loc\u001b[0;34m()\u001b[0m\n",
      "\u001b[0;32mpandas/_libs/hashtable_class_helper.pxi\u001b[0m in \u001b[0;36mpandas._libs.hashtable.Int64HashTable.get_item\u001b[0;34m()\u001b[0m\n",
      "\u001b[0;31mTypeError\u001b[0m: an integer is required",
      "\nDuring handling of the above exception, another exception occurred:\n",
      "\u001b[0;31mKeyError\u001b[0m                                  Traceback (most recent call last)",
      "\u001b[0;32m<ipython-input-56-4ba584bbf3d8>\u001b[0m in \u001b[0;36m<module>\u001b[0;34m()\u001b[0m\n\u001b[1;32m      4\u001b[0m \u001b[0mdf\u001b[0m\u001b[0;34m=\u001b[0m \u001b[0mapp_train\u001b[0m\u001b[0;34m[\u001b[0m\u001b[0;34m[\u001b[0m\u001b[0;34m'TARGET'\u001b[0m\u001b[0;34m,\u001b[0m \u001b[0;34m'DAYS_EMPLOYED'\u001b[0m\u001b[0;34m]\u001b[0m\u001b[0;34m]\u001b[0m\u001b[0;34m\u001b[0m\u001b[0m\n\u001b[1;32m      5\u001b[0m \u001b[0mdf\u001b[0m\u001b[0;34m=\u001b[0m\u001b[0mapp_train\u001b[0m\u001b[0;34m[\u001b[0m\u001b[0;34m'DAYS_EMPLOYED'\u001b[0m\u001b[0;34m]\u001b[0m\u001b[0;34m.\u001b[0m\u001b[0mreplace\u001b[0m\u001b[0;34m(\u001b[0m\u001b[0;34m{\u001b[0m\u001b[0;36m365243\u001b[0m\u001b[0;34m:\u001b[0m \u001b[0mnp\u001b[0m\u001b[0;34m.\u001b[0m\u001b[0mnan\u001b[0m\u001b[0;34m}\u001b[0m\u001b[0;34m)\u001b[0m\u001b[0;34m\u001b[0m\u001b[0m\n\u001b[0;32m----> 6\u001b[0;31m \u001b[0mdf\u001b[0m\u001b[0;34m[\u001b[0m\u001b[0;34m'DAYS_EMPLOYED'\u001b[0m\u001b[0;34m]\u001b[0m\u001b[0;34m=\u001b[0m\u001b[0mdf\u001b[0m\u001b[0;34m[\u001b[0m\u001b[0;34m'DAYS_EMPLOYED'\u001b[0m\u001b[0;34m]\u001b[0m\u001b[0;34m/\u001b[0m\u001b[0;34m-\u001b[0m\u001b[0;36m365\u001b[0m\u001b[0;34m\u001b[0m\u001b[0m\n\u001b[0m\u001b[1;32m      7\u001b[0m \u001b[0mdf\u001b[0m\u001b[0;34m=\u001b[0m\u001b[0mdf\u001b[0m\u001b[0;34m.\u001b[0m\u001b[0mdropna\u001b[0m\u001b[0;34m(\u001b[0m\u001b[0;34m)\u001b[0m\u001b[0;34m\u001b[0m\u001b[0m\n\u001b[1;32m      8\u001b[0m \u001b[0;34m\u001b[0m\u001b[0m\n",
      "\u001b[0;32m/anaconda3/lib/python3.6/site-packages/pandas/core/series.py\u001b[0m in \u001b[0;36m__getitem__\u001b[0;34m(self, key)\u001b[0m\n\u001b[1;32m    621\u001b[0m         \u001b[0mkey\u001b[0m \u001b[0;34m=\u001b[0m \u001b[0mcom\u001b[0m\u001b[0;34m.\u001b[0m\u001b[0m_apply_if_callable\u001b[0m\u001b[0;34m(\u001b[0m\u001b[0mkey\u001b[0m\u001b[0;34m,\u001b[0m \u001b[0mself\u001b[0m\u001b[0;34m)\u001b[0m\u001b[0;34m\u001b[0m\u001b[0m\n\u001b[1;32m    622\u001b[0m         \u001b[0;32mtry\u001b[0m\u001b[0;34m:\u001b[0m\u001b[0;34m\u001b[0m\u001b[0m\n\u001b[0;32m--> 623\u001b[0;31m             \u001b[0mresult\u001b[0m \u001b[0;34m=\u001b[0m \u001b[0mself\u001b[0m\u001b[0;34m.\u001b[0m\u001b[0mindex\u001b[0m\u001b[0;34m.\u001b[0m\u001b[0mget_value\u001b[0m\u001b[0;34m(\u001b[0m\u001b[0mself\u001b[0m\u001b[0;34m,\u001b[0m \u001b[0mkey\u001b[0m\u001b[0;34m)\u001b[0m\u001b[0;34m\u001b[0m\u001b[0m\n\u001b[0m\u001b[1;32m    624\u001b[0m \u001b[0;34m\u001b[0m\u001b[0m\n\u001b[1;32m    625\u001b[0m             \u001b[0;32mif\u001b[0m \u001b[0;32mnot\u001b[0m \u001b[0mis_scalar\u001b[0m\u001b[0;34m(\u001b[0m\u001b[0mresult\u001b[0m\u001b[0;34m)\u001b[0m\u001b[0;34m:\u001b[0m\u001b[0;34m\u001b[0m\u001b[0m\n",
      "\u001b[0;32m/anaconda3/lib/python3.6/site-packages/pandas/core/indexes/base.py\u001b[0m in \u001b[0;36mget_value\u001b[0;34m(self, series, key)\u001b[0m\n\u001b[1;32m   2558\u001b[0m         \u001b[0;32mtry\u001b[0m\u001b[0;34m:\u001b[0m\u001b[0;34m\u001b[0m\u001b[0m\n\u001b[1;32m   2559\u001b[0m             return self._engine.get_value(s, k,\n\u001b[0;32m-> 2560\u001b[0;31m                                           tz=getattr(series.dtype, 'tz', None))\n\u001b[0m\u001b[1;32m   2561\u001b[0m         \u001b[0;32mexcept\u001b[0m \u001b[0mKeyError\u001b[0m \u001b[0;32mas\u001b[0m \u001b[0me1\u001b[0m\u001b[0;34m:\u001b[0m\u001b[0;34m\u001b[0m\u001b[0m\n\u001b[1;32m   2562\u001b[0m             \u001b[0;32mif\u001b[0m \u001b[0mlen\u001b[0m\u001b[0;34m(\u001b[0m\u001b[0mself\u001b[0m\u001b[0;34m)\u001b[0m \u001b[0;34m>\u001b[0m \u001b[0;36m0\u001b[0m \u001b[0;32mand\u001b[0m \u001b[0mself\u001b[0m\u001b[0;34m.\u001b[0m\u001b[0minferred_type\u001b[0m \u001b[0;32min\u001b[0m \u001b[0;34m[\u001b[0m\u001b[0;34m'integer'\u001b[0m\u001b[0;34m,\u001b[0m \u001b[0;34m'boolean'\u001b[0m\u001b[0;34m]\u001b[0m\u001b[0;34m:\u001b[0m\u001b[0;34m\u001b[0m\u001b[0m\n",
      "\u001b[0;32mpandas/_libs/index.pyx\u001b[0m in \u001b[0;36mpandas._libs.index.IndexEngine.get_value\u001b[0;34m()\u001b[0m\n",
      "\u001b[0;32mpandas/_libs/index.pyx\u001b[0m in \u001b[0;36mpandas._libs.index.IndexEngine.get_value\u001b[0;34m()\u001b[0m\n",
      "\u001b[0;32mpandas/_libs/index.pyx\u001b[0m in \u001b[0;36mpandas._libs.index.IndexEngine.get_loc\u001b[0;34m()\u001b[0m\n",
      "\u001b[0;31mKeyError\u001b[0m: 'DAYS_EMPLOYED'"
     ]
    }
   ],
   "source": [
    "import statistics\n",
    "\n",
    "app_train = pd.read_csv('/Users/jayborkar/Downloads/all/application_train.csv')\n",
    "df= app_train[['TARGET', 'DAYS_EMPLOYED']]\n",
    "df=app_train['DAYS_EMPLOYED'].replace({365243: np.nan})\n",
    "df['DAYS_EMPLOYED']=df['DAYS_EMPLOYED']/-365\n",
    "df=df.dropna()\n",
    "\n",
    "\n",
    "def percent(val,total):\n",
    "    return (val/total)*100\n",
    "\n",
    "cnt1_Total,cnt2_Total,cnt3_Total,cnt4_Total=0,0,0,0\n",
    "cnt1,cnt2,cnt3,cnt4=0,0,0,0\n",
    "perlist=[]\n",
    "\n",
    "for index, row in df.iterrows():\n",
    "    if row['DAYS_EMPLOYED']<=0.0:\n",
    "        cnt1_Total=cnt1_Total+1\n",
    "        if row['TARGET']==1:\n",
    "            cnt1=cnt1+1\n",
    "    elif row['DAYS_EMPLOYED']>0.0 and row['DAYS_EMPLOYED']<3.323288:\n",
    "        cnt2_Total=cnt2_Total+1\n",
    "        if row['TARGET']==1:\n",
    "            cnt2=cnt2+1\n",
    "    elif row['DAYS_EMPLOYED']>=3.323288 and row['DAYS_EMPLOYED']<7.561644:\n",
    "        cnt3_Total=cnt3_Total+1\n",
    "        if row['TARGET']==1:\n",
    "            cnt3=cnt3+1\n",
    "    elif row['DAYS_EMPLOYED']>=7.561644 and row['DAYS_EMPLOYED']<=49.073973:\n",
    "        cnt4_Total=cnt4_Total+1\n",
    "        if row['TARGET']==1:\n",
    "            cnt4=cnt4+1\n",
    "\n",
    "per=percent(cnt1,cnt1_Total)\n",
    "perlist.append(per)\n",
    "\n",
    "per=percent(cnt2,cnt2_Total)\n",
    "perlist.append(per)\n",
    "\n",
    "per=percent(cnt3,cnt3_Total)\n",
    "perlist.append(per)\n",
    "\n",
    "per=percent(cnt4,cnt4_Total)\n",
    "perlist.append(per)\n",
    "\n",
    "a,b,c,d=(statistics.median([-1000,0])),(statistics.median([0,3.32328])),(statistics.median([3.32328,7.561644])),(statistics.median([7.561644,49.073973]))\n",
    "d2=pd.Series([a,b,c,d])\n",
    "\n",
    "trace1 = go.Histogram(\n",
    "    x= df['DAYS_EMPLOYED'],\n",
    "    #opacity=0.75,\n",
    "    name='OWN_CAR_AGE'\n",
    ")\n",
    "\n",
    "trace2 = go.Scatter(\n",
    "    x= d2,\n",
    "    y= pd.Series(perlist),\n",
    "    name='PERCENT OF TARGET=1',\n",
    "    yaxis='y2'\n",
    ")\n",
    "data = [trace1, trace2]\n",
    "layout = go.Layout(\n",
    "    title='DAYS_EMPLOYED',\n",
    "    yaxis=dict(\n",
    "        title='DAYS_EMPLOYED'\n",
    "    ),\n",
    "    yaxis2=dict(\n",
    "        title='PERCENT',\n",
    "        titlefont=dict(\n",
    "            color='rgb(148, 103, 189)'\n",
    "        ),\n",
    "        tickfont=dict(\n",
    "            color='rgb(148, 103, 189)'\n",
    "        ),\n",
    "        overlaying='y',\n",
    "        side='right'\n",
    "    )\n",
    ")\n",
    "fig = go.Figure(data=data, layout=layout)\n",
    "py.iplot(fig, filename='multiple-axes-doub')"
   ]
  },
  {
   "cell_type": "code",
   "execution_count": null,
   "metadata": {},
   "outputs": [],
   "source": [
    "bureau_balance=pd.read_csv('/Users/jayborkar/Downloads/all/bureau_balance.csv')\n",
    "(bureau_balance['MONTHS_BALANCE']).describe()"
   ]
  },
  {
   "cell_type": "code",
   "execution_count": null,
   "metadata": {},
   "outputs": [],
   "source": [
    "import statistics\n",
    "\n",
    "bureau_balance=pd.read_csv('/Users/jayborkar/Downloads/all/bureau_balance.csv')\n",
    "df= app_train[['TARGET', 'OWN_CAR_AGE']]\n",
    "df=df.dropna()\n",
    "\n",
    "def percent(val,total):\n",
    "    return (val/total)*100\n",
    "\n",
    "cnt1_Total,cnt2_Total,cnt3_Total,cnt4_Total=0,0,0,0\n",
    "cnt1,cnt2,cnt3,cnt4=0,0,0,0\n",
    "perlist=[]\n",
    "\n",
    "for index, row in df.iterrows():\n",
    "    if row['MONTHS_BALANCE']>=-9.600000e+01 and row['MONTHS_BALANCE']<-4.600000e+01:\n",
    "        cnt1_Total=cnt1_Total+1\n",
    "        if row['TARGET']==1:\n",
    "            cnt1=cnt1+1\n",
    "    elif row['MONTHS_BALANCE']>=-4.600000e+01 and row['MONTHS_BALANCE']<-2.500000e+01:\n",
    "        cnt2_Total=cnt2_Total+1\n",
    "        if row['TARGET']==1:\n",
    "            cnt2=cnt2+1\n",
    "    elif row['MONTHS_BALANCE']>=-2.500000e+01 and row['MONTHS_BALANCE']<-1.100000e+01:\n",
    "        cnt3_Total=cnt3_Total+1\n",
    "        if row['TARGET']==1:\n",
    "            cnt3=cnt3+1\n",
    "    elif row['MONTHS_BALANCE']>=-1.100000e+01 and row['MONTHS_BALANCE']<=0.000000e+00:\n",
    "        cnt4_Total=cnt4_Total+1\n",
    "        if row['TARGET']==1:\n",
    "            cnt4=cnt4+1\n",
    "\n",
    "per=percent(cnt1,cnt1_Total)\n",
    "perlist.append(per)\n",
    "\n",
    "per=percent(cnt2,cnt2_Total)\n",
    "perlist.append(per)\n",
    "\n",
    "per=percent(cnt3,cnt3_Total)\n",
    "perlist.append(per)\n",
    "\n",
    "per=percent(cnt4,cnt4_Total)\n",
    "perlist.append(per)\n",
    "\n",
    "a,b,c,d=(statistics.median([0,5])),(statistics.median([5,9])),(statistics.median([9,15])),(statistics.median([15,91]))\n",
    "d2=pd.Series([a,b,c,d])\n",
    "\n",
    "trace1 = go.Histogram(\n",
    "    x= bureau_balance['MONTHS_BALANCE'],\n",
    "    #opacity=0.75,\n",
    "    name='OWN_CAR_AGE'\n",
    ")\n",
    "\n",
    "trace2 = go.Scatter(\n",
    "    x= d2,\n",
    "    y= pd.Series(perlist),\n",
    "    name='PERCENT OF TARGET=1',\n",
    "    yaxis='y2'\n",
    ")\n",
    "data = [trace1, trace2]\n",
    "layout = go.Layout(\n",
    "    title='OWN_CAR_AGE',\n",
    "    yaxis=dict(\n",
    "        title='OWN_CAR_AGE'\n",
    "    ),\n",
    "    yaxis2=dict(\n",
    "        title='PERCENT',\n",
    "        titlefont=dict(\n",
    "            color='rgb(148, 103, 189)'\n",
    "        ),\n",
    "        tickfont=dict(\n",
    "            color='rgb(148, 103, 189)'\n",
    "        ),\n",
    "        overlaying='y',\n",
    "        side='right'\n",
    "    )\n",
    ")\n",
    "fig = go.Figure(data=data, layout=layout)\n",
    "py.iplot(fig, filename='multiple-axes-doub')"
   ]
  },
  {
   "cell_type": "code",
   "execution_count": null,
   "metadata": {},
   "outputs": [],
   "source": []
  },
  {
   "cell_type": "code",
   "execution_count": null,
   "metadata": {},
   "outputs": [],
   "source": []
  },
  {
   "cell_type": "code",
   "execution_count": null,
   "metadata": {},
   "outputs": [],
   "source": []
  }
 ],
 "metadata": {
  "kernelspec": {
   "display_name": "Python 3.10.12 64-bit",
   "language": "python",
   "name": "python3"
  },
  "language_info": {
   "codemirror_mode": {
    "name": "ipython",
    "version": 3
   },
   "file_extension": ".py",
   "mimetype": "text/x-python",
   "name": "python",
   "nbconvert_exporter": "python",
   "pygments_lexer": "ipython3",
   "version": "3.10.12"
  },
  "vscode": {
   "interpreter": {
    "hash": "e7370f93d1d0cde622a1f8e1c04877d8463912d04d973331ad4851f04de6915a"
   }
  }
 },
 "nbformat": 4,
 "nbformat_minor": 2
}
